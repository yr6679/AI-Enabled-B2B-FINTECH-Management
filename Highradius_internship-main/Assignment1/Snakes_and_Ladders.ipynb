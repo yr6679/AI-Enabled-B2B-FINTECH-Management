{
 "cells": [
  {
   "cell_type": "code",
   "execution_count": 1,
   "metadata": {},
   "outputs": [],
   "source": [
    "import random as r"
   ]
  },
  {
   "cell_type": "code",
   "execution_count": 2,
   "metadata": {},
   "outputs": [],
   "source": [
    "def snakes_and_ladder():\n",
    "    name1 = input()\n",
    "    name2 = input()\n",
    "    list_name1 = [0]\n",
    "    list_name2 = [0]\n",
    "    count = count1 = 0\n",
    "    surrender = ''\n",
    "    if name1 == '' and name1 == '':\n",
    "        print(\"Names not entered correctly\")\n",
    "    \n",
    "    final = 'Not hurray'\n",
    "    while final != 'hurray':\n",
    "        if list_name1[-1] != 100 and list_name2[-1] != 100 and surrender == '':\n",
    "            for a in ['Player 1', 'Player 2']:\n",
    "                typ = input(\"Enter mode:\").lower() # enter mode here - roll or quit, just press enter if switch to manual mode.\n",
    "                if typ == 'roll':\n",
    "                    if a == 'Player 1':\n",
    "                        chance = r.randrange(0,7)\n",
    "                        print(name1 + ': roll')                     \n",
    "                        print('You got a: ', chance)\n",
    "                        list_name1 = func_auto(chance, list_name1)\n",
    "                        # print(list_name1)\n",
    "                        print('Your final position is: ', list_name1[-1])\n",
    "                    if a == 'Player 2':\n",
    "                        chance = r.randrange(0,7)\n",
    "                        print(name2 + ': roll')                     \n",
    "                        print('You got a: ', chance)\n",
    "                        list_name2 = func_auto(chance, list_name2)\n",
    "                        # print(list_name2)\n",
    "                        print('Your final position is: ', list_name2[-1])\n",
    "                \n",
    "                elif typ == 'quit':\n",
    "                    # print(a + \" Loses\")\n",
    "                    surrender = a + ' surrender'\n",
    "                    break                        \n",
    "                        \n",
    "                else:\n",
    "                    own = int(input('Input your own number: '))\n",
    "                    if own >=1 and own <=20:    \n",
    "                        if a == 'Player 1':\n",
    "                            print(name1 + ': roll')                     \n",
    "                            print('You got a: ', own)\n",
    "                            list_name1 = func_auto(own, list_name1)\n",
    "                            # print(list_name1)\n",
    "                            print('Your final position is: ', list_name1[-1])\n",
    "                        if a == 'Player 2':\n",
    "                            print(name2 + ': roll')                     \n",
    "                            print('You got a: ', own)\n",
    "                            list_name2 = func_auto(own, list_name2)\n",
    "                            # print(list_name2)\n",
    "                            print('Your final position is: ', list_name2[-1])\n",
    "                \n",
    "                    \n",
    "        else:\n",
    "            final = 'hurray'\n",
    "            sur_list = surrender.split()\n",
    "            if list_name1[-1] == 100 and sur_list[1] == 2:\n",
    "                print(name1 + \" won\")\n",
    "            else:\n",
    "                print(name2 + \" won\")\n",
    "            print(\"Game successfully finished.\")"
   ]
  },
  {
   "cell_type": "code",
   "execution_count": 3,
   "metadata": {},
   "outputs": [],
   "source": [
    "def func_auto(chance, p):\n",
    "    lis = p\n",
    "    snakes = {17 : 7, 54 : 34, 62 : 19, 98 : 79}\n",
    "    ladders = {3 : 38, 24 : 33, 42 : 93, 72 : 84}    \n",
    "    count = lis[-1] + chance\n",
    "    count1 = snakes.get(count, 0) + ladders.get(count, 0)\n",
    "    if count1 != 0:\n",
    "        if count1 > 100:\n",
    "            count1 = lis[-1]\n",
    "            print('Overshoots')\n",
    "            lis.append(count1)\n",
    "        else:\n",
    "            lis.append(count1)\n",
    "            \n",
    "    elif count <= 100:\n",
    "        lis.append(count)\n",
    "    else:\n",
    "        print('Overshoots')\n",
    "    \n",
    "    return lis"
   ]
  },
  {
   "cell_type": "code",
   "execution_count": 4,
   "metadata": {},
   "outputs": [],
   "source": [
    "def func_manual(own, p):\n",
    "    lis = p\n",
    "    snakes = {17 : 7, 54 : 34, 62 : 19, 98 : 79}\n",
    "    ladders = {3 : 38, 24 : 33, 42 : 93, 72 : 84}\n",
    "    count = lis[-1] + own\n",
    "    count1 = snakes.get(count, 0) + ladders.get(count, 0)\n",
    "    if count1 != 0:\n",
    "        if count1 > 100:\n",
    "            count1 = list_name2[-1]\n",
    "            print('Overshoots')\n",
    "            lis.append(count1)\n",
    "        else:            \n",
    "            lis.append(count1)\n",
    "    elif count <= 100:\n",
    "        lis.append(count)\n",
    "    else:\n",
    "        print('Overshoots')            \n",
    "            \n",
    "    return lis"
   ]
  },
  {
   "cell_type": "code",
   "execution_count": 5,
   "metadata": {},
   "outputs": [],
   "source": [
    "# snakes_and_ladder()"
   ]
  },
  {
   "cell_type": "code",
   "execution_count": 6,
   "metadata": {},
   "outputs": [],
   "source": [
    "# code lets player 2 run a last roll even when player on has reached 100 the last roll, to see if player 2 reaches 100 too \n",
    "# (as then both player 1 and 2 would have reached 100 in same number of steps.)"
   ]
  },
  {
   "cell_type": "code",
   "execution_count": null,
   "metadata": {},
   "outputs": [],
   "source": []
  }
 ],
 "metadata": {
  "kernelspec": {
   "display_name": "Python 3",
   "language": "python",
   "name": "python3"
  },
  "language_info": {
   "codemirror_mode": {
    "name": "ipython",
    "version": 3
   },
   "file_extension": ".py",
   "mimetype": "text/x-python",
   "name": "python",
   "nbconvert_exporter": "python",
   "pygments_lexer": "ipython3",
   "version": "3.7.6"
  }
 },
 "nbformat": 4,
 "nbformat_minor": 4
}
