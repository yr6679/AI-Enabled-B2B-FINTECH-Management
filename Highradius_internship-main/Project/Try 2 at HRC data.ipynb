{
 "cells": [
  {
   "cell_type": "code",
   "execution_count": 71,
   "metadata": {},
   "outputs": [],
   "source": [
    "import numpy as np\n",
    "import pandas as pd\n",
    "import datetime as dt\n",
    "from scipy import stats\n",
    "\n",
    "import seaborn as sns\n",
    "import matplotlib.pyplot as plt\n",
    "%matplotlib inline \n",
    "from sklearn.model_selection import train_test_split\n",
    "from sklearn.metrics import accuracy_score, classification_report\n",
    "from sklearn.ensemble import RandomForestRegressor\n",
    "import xgboost as xgb"
   ]
  },
  {
   "cell_type": "code",
   "execution_count": 2,
   "metadata": {},
   "outputs": [
    {
     "data": {
      "text/plain": [
       "Index(['business_code', 'cust_number', 'name_customer', 'clear_date',\n",
       "       'buisness_year', 'doc_id', 'posting_date', 'document_create_date',\n",
       "       'document_create_date.1', 'due_in_date', 'invoice_currency',\n",
       "       'document type', 'posting_id', 'area_business', 'total_open_amount',\n",
       "       'baseline_create_date', 'cust_payment_terms', 'invoice_id', 'isOpen'],\n",
       "      dtype='object')"
      ]
     },
     "execution_count": 2,
     "metadata": {},
     "output_type": "execute_result"
    }
   ],
   "source": [
    "call = pd.read_csv('Dataset.csv')\n",
    "df = pd.DataFrame(call)\n",
    "df.columns"
   ]
  },
  {
   "cell_type": "code",
   "execution_count": 3,
   "metadata": {},
   "outputs": [
    {
     "data": {
      "text/plain": [
       "business_code               0\n",
       "cust_number                 0\n",
       "name_customer               0\n",
       "clear_date               4175\n",
       "buisness_year               0\n",
       "doc_id                      0\n",
       "posting_date                0\n",
       "document_create_date        0\n",
       "due_in_date                 0\n",
       "invoice_currency            0\n",
       "document type               0\n",
       "posting_id                  0\n",
       "area_business           50000\n",
       "total_open_amount           0\n",
       "baseline_create_date        0\n",
       "cust_payment_terms          0\n",
       "invoice_id                 10\n",
       "isOpen                      0\n",
       "dtype: int64"
      ]
     },
     "execution_count": 3,
     "metadata": {},
     "output_type": "execute_result"
    }
   ],
   "source": [
    "# As we can see in the list of columns 'document_create_date' is twice, so we drop one.\n",
    "\n",
    "df_drop = df.drop(['document_create_date.1'], axis=1)\n",
    "\n",
    "# finding nan values \n",
    "df_drop.isna().sum()"
   ]
  },
  {
   "cell_type": "code",
   "execution_count": 4,
   "metadata": {},
   "outputs": [
    {
     "data": {
      "text/plain": [
       "(45815, 17)"
      ]
     },
     "execution_count": 4,
     "metadata": {},
     "output_type": "execute_result"
    }
   ],
   "source": [
    "# From the above sum we can see 'area_business' is totally useless as it has null values for all 50k data rows.\n",
    "df_drop1 = df_drop.drop(['area_business'], axis = 1)\n",
    "\n",
    "# There are 4175 rows with clear date missing which is useful in finding payment delay predictions, so these rows are useless.\n",
    "df_drop2 = df_drop1.dropna(axis = 0, how ='any') # additionally removing those null values too for invoice_id\n",
    "df_drop2.shape\n",
    "# df_drop2.isna().sum()"
   ]
  },
  {
   "cell_type": "markdown",
   "metadata": {},
   "source": [
    "## Creating Target Column"
   ]
  },
  {
   "cell_type": "code",
   "execution_count": 5,
   "metadata": {},
   "outputs": [],
   "source": [
    "def change_date(x_type):\n",
    "    x = str(x_type)\n",
    "    year = int(x[0:4])\n",
    "    month = int(x[4:6])\n",
    "    day = int(x[6:])\n",
    "    return dt.datetime(year, month, day)"
   ]
  },
  {
   "cell_type": "code",
   "execution_count": 6,
   "metadata": {},
   "outputs": [
    {
     "name": "stderr",
     "output_type": "stream",
     "text": [
      "C:\\ProgramData\\Anaconda3\\lib\\site-packages\\ipykernel_launcher.py:4: SettingWithCopyWarning: \n",
      "A value is trying to be set on a copy of a slice from a DataFrame.\n",
      "Try using .loc[row_indexer,col_indexer] = value instead\n",
      "\n",
      "See the caveats in the documentation: https://pandas.pydata.org/pandas-docs/stable/user_guide/indexing.html#returning-a-view-versus-a-copy\n",
      "  after removing the cwd from sys.path.\n",
      "C:\\ProgramData\\Anaconda3\\lib\\site-packages\\ipykernel_launcher.py:5: SettingWithCopyWarning: \n",
      "A value is trying to be set on a copy of a slice from a DataFrame.\n",
      "Try using .loc[row_indexer,col_indexer] = value instead\n",
      "\n",
      "See the caveats in the documentation: https://pandas.pydata.org/pandas-docs/stable/user_guide/indexing.html#returning-a-view-versus-a-copy\n",
      "  \"\"\"\n",
      "C:\\ProgramData\\Anaconda3\\lib\\site-packages\\ipykernel_launcher.py:8: SettingWithCopyWarning: \n",
      "A value is trying to be set on a copy of a slice from a DataFrame.\n",
      "Try using .loc[row_indexer,col_indexer] = value instead\n",
      "\n",
      "See the caveats in the documentation: https://pandas.pydata.org/pandas-docs/stable/user_guide/indexing.html#returning-a-view-versus-a-copy\n",
      "  \n"
     ]
    }
   ],
   "source": [
    "# year/month/date\n",
    "# due date() - clear date(day/month/year)\n",
    "# generating due date into readable format.\n",
    "df_drop2['due_date'] = df_drop2['due_in_date'].apply(change_date)\n",
    "df_drop2['clear_date']= pd.to_datetime(df_drop2['clear_date']) \n",
    "\n",
    "# Creating target variable\n",
    "df_drop2['target'] = (df_drop2['clear_date'] - df_drop2['due_date']).dt.days\n",
    "# df_drop2.head(5) target value +ve means there was a delay in payment."
   ]
  },
  {
   "cell_type": "code",
   "execution_count": 7,
   "metadata": {},
   "outputs": [
    {
     "name": "stderr",
     "output_type": "stream",
     "text": [
      "C:\\ProgramData\\Anaconda3\\lib\\site-packages\\ipykernel_launcher.py:1: SettingWithCopyWarning: \n",
      "A value is trying to be set on a copy of a slice from a DataFrame.\n",
      "Try using .loc[row_indexer,col_indexer] = value instead\n",
      "\n",
      "See the caveats in the documentation: https://pandas.pydata.org/pandas-docs/stable/user_guide/indexing.html#returning-a-view-versus-a-copy\n",
      "  \"\"\"Entry point for launching an IPython kernel.\n"
     ]
    },
    {
     "name": "stdout",
     "output_type": "stream",
     "text": [
      "2018-12-27 00:00:00\n",
      "2020-02-28 00:00:00\n"
     ]
    },
    {
     "name": "stderr",
     "output_type": "stream",
     "text": [
      "C:\\ProgramData\\Anaconda3\\lib\\site-packages\\ipykernel_launcher.py:2: SettingWithCopyWarning: \n",
      "A value is trying to be set on a copy of a slice from a DataFrame.\n",
      "Try using .loc[row_indexer,col_indexer] = value instead\n",
      "\n",
      "See the caveats in the documentation: https://pandas.pydata.org/pandas-docs/stable/user_guide/indexing.html#returning-a-view-versus-a-copy\n",
      "  \n"
     ]
    }
   ],
   "source": [
    "df_drop2['document_create_date'] = df_drop2['document_create_date'].apply(change_date)\n",
    "df_drop2['baseline_create_date'] = df_drop2['baseline_create_date'].apply(change_date)\n",
    "\n",
    "print(pd.to_datetime(df_drop2['document_create_date']).min()) \n",
    "print(pd.to_datetime(df_drop2['document_create_date']).max())"
   ]
  },
  {
   "cell_type": "code",
   "execution_count": 8,
   "metadata": {},
   "outputs": [],
   "source": [
    "# Splitting the initial dataframe into train and test\n",
    "# So in this case we can consider last 3 months for test set.\n",
    "x_train = df_drop2[df_drop2['document_create_date'] <= '2020-01-01'].copy()\n",
    "x_test = df_drop2[df_drop2['document_create_date'] > '2020-01-01'].copy()"
   ]
  },
  {
   "cell_type": "code",
   "execution_count": 9,
   "metadata": {},
   "outputs": [
    {
     "data": {
      "text/html": [
       "<div>\n",
       "<style scoped>\n",
       "    .dataframe tbody tr th:only-of-type {\n",
       "        vertical-align: middle;\n",
       "    }\n",
       "\n",
       "    .dataframe tbody tr th {\n",
       "        vertical-align: top;\n",
       "    }\n",
       "\n",
       "    .dataframe thead th {\n",
       "        text-align: right;\n",
       "    }\n",
       "</style>\n",
       "<table border=\"1\" class=\"dataframe\">\n",
       "  <thead>\n",
       "    <tr style=\"text-align: right;\">\n",
       "      <th></th>\n",
       "      <th>buisness_year</th>\n",
       "      <th>doc_id</th>\n",
       "      <th>due_in_date</th>\n",
       "      <th>posting_id</th>\n",
       "      <th>total_open_amount</th>\n",
       "      <th>invoice_id</th>\n",
       "      <th>isOpen</th>\n",
       "      <th>target</th>\n",
       "    </tr>\n",
       "  </thead>\n",
       "  <tbody>\n",
       "    <tr>\n",
       "      <th>count</th>\n",
       "      <td>40128.000000</td>\n",
       "      <td>4.012800e+04</td>\n",
       "      <td>4.012800e+04</td>\n",
       "      <td>40128.0</td>\n",
       "      <td>4.012800e+04</td>\n",
       "      <td>4.012800e+04</td>\n",
       "      <td>40128.0</td>\n",
       "      <td>40128.000000</td>\n",
       "    </tr>\n",
       "    <tr>\n",
       "      <th>mean</th>\n",
       "      <td>2019.008548</td>\n",
       "      <td>2.011554e+09</td>\n",
       "      <td>2.019083e+07</td>\n",
       "      <td>1.0</td>\n",
       "      <td>3.240339e+04</td>\n",
       "      <td>2.011554e+09</td>\n",
       "      <td>0.0</td>\n",
       "      <td>-5.438995</td>\n",
       "    </tr>\n",
       "    <tr>\n",
       "      <th>std</th>\n",
       "      <td>0.092059</td>\n",
       "      <td>2.772913e+08</td>\n",
       "      <td>1.162742e+03</td>\n",
       "      <td>0.0</td>\n",
       "      <td>4.074218e+04</td>\n",
       "      <td>2.772913e+08</td>\n",
       "      <td>0.0</td>\n",
       "      <td>88.401850</td>\n",
       "    </tr>\n",
       "    <tr>\n",
       "      <th>min</th>\n",
       "      <td>2019.000000</td>\n",
       "      <td>1.928502e+09</td>\n",
       "      <td>2.018123e+07</td>\n",
       "      <td>1.0</td>\n",
       "      <td>6.500000e-01</td>\n",
       "      <td>1.928502e+09</td>\n",
       "      <td>0.0</td>\n",
       "      <td>-319.000000</td>\n",
       "    </tr>\n",
       "    <tr>\n",
       "      <th>25%</th>\n",
       "      <td>2019.000000</td>\n",
       "      <td>1.929099e+09</td>\n",
       "      <td>2.019042e+07</td>\n",
       "      <td>1.0</td>\n",
       "      <td>4.838005e+03</td>\n",
       "      <td>1.929099e+09</td>\n",
       "      <td>0.0</td>\n",
       "      <td>-5.000000</td>\n",
       "    </tr>\n",
       "    <tr>\n",
       "      <th>50%</th>\n",
       "      <td>2019.000000</td>\n",
       "      <td>1.929613e+09</td>\n",
       "      <td>2.019071e+07</td>\n",
       "      <td>1.0</td>\n",
       "      <td>1.736832e+04</td>\n",
       "      <td>1.929613e+09</td>\n",
       "      <td>0.0</td>\n",
       "      <td>0.000000</td>\n",
       "    </tr>\n",
       "    <tr>\n",
       "      <th>75%</th>\n",
       "      <td>2019.000000</td>\n",
       "      <td>1.930024e+09</td>\n",
       "      <td>2.019101e+07</td>\n",
       "      <td>1.0</td>\n",
       "      <td>4.666770e+04</td>\n",
       "      <td>1.930024e+09</td>\n",
       "      <td>0.0</td>\n",
       "      <td>4.000000</td>\n",
       "    </tr>\n",
       "    <tr>\n",
       "      <th>max</th>\n",
       "      <td>2020.000000</td>\n",
       "      <td>2.960605e+09</td>\n",
       "      <td>2.020023e+07</td>\n",
       "      <td>1.0</td>\n",
       "      <td>1.501474e+06</td>\n",
       "      <td>2.960605e+09</td>\n",
       "      <td>0.0</td>\n",
       "      <td>319.000000</td>\n",
       "    </tr>\n",
       "  </tbody>\n",
       "</table>\n",
       "</div>"
      ],
      "text/plain": [
       "       buisness_year        doc_id   due_in_date  posting_id  \\\n",
       "count   40128.000000  4.012800e+04  4.012800e+04     40128.0   \n",
       "mean     2019.008548  2.011554e+09  2.019083e+07         1.0   \n",
       "std         0.092059  2.772913e+08  1.162742e+03         0.0   \n",
       "min      2019.000000  1.928502e+09  2.018123e+07         1.0   \n",
       "25%      2019.000000  1.929099e+09  2.019042e+07         1.0   \n",
       "50%      2019.000000  1.929613e+09  2.019071e+07         1.0   \n",
       "75%      2019.000000  1.930024e+09  2.019101e+07         1.0   \n",
       "max      2020.000000  2.960605e+09  2.020023e+07         1.0   \n",
       "\n",
       "       total_open_amount    invoice_id   isOpen        target  \n",
       "count       4.012800e+04  4.012800e+04  40128.0  40128.000000  \n",
       "mean        3.240339e+04  2.011554e+09      0.0     -5.438995  \n",
       "std         4.074218e+04  2.772913e+08      0.0     88.401850  \n",
       "min         6.500000e-01  1.928502e+09      0.0   -319.000000  \n",
       "25%         4.838005e+03  1.929099e+09      0.0     -5.000000  \n",
       "50%         1.736832e+04  1.929613e+09      0.0      0.000000  \n",
       "75%         4.666770e+04  1.930024e+09      0.0      4.000000  \n",
       "max         1.501474e+06  2.960605e+09      0.0    319.000000  "
      ]
     },
     "execution_count": 9,
     "metadata": {},
     "output_type": "execute_result"
    }
   ],
   "source": [
    "x_train.describe()"
   ]
  },
  {
   "cell_type": "code",
   "execution_count": 10,
   "metadata": {},
   "outputs": [
    {
     "data": {
      "text/html": [
       "<div>\n",
       "<style scoped>\n",
       "    .dataframe tbody tr th:only-of-type {\n",
       "        vertical-align: middle;\n",
       "    }\n",
       "\n",
       "    .dataframe tbody tr th {\n",
       "        vertical-align: top;\n",
       "    }\n",
       "\n",
       "    .dataframe thead th {\n",
       "        text-align: right;\n",
       "    }\n",
       "</style>\n",
       "<table border=\"1\" class=\"dataframe\">\n",
       "  <thead>\n",
       "    <tr style=\"text-align: right;\">\n",
       "      <th></th>\n",
       "      <th>buisness_year</th>\n",
       "      <th>doc_id</th>\n",
       "      <th>due_in_date</th>\n",
       "      <th>posting_id</th>\n",
       "      <th>total_open_amount</th>\n",
       "      <th>invoice_id</th>\n",
       "      <th>isOpen</th>\n",
       "      <th>target</th>\n",
       "    </tr>\n",
       "  </thead>\n",
       "  <tbody>\n",
       "    <tr>\n",
       "      <th>count</th>\n",
       "      <td>5687.0</td>\n",
       "      <td>5.687000e+03</td>\n",
       "      <td>5.687000e+03</td>\n",
       "      <td>5687.0</td>\n",
       "      <td>5687.000000</td>\n",
       "      <td>5.687000e+03</td>\n",
       "      <td>5687.0</td>\n",
       "      <td>5687.000000</td>\n",
       "    </tr>\n",
       "    <tr>\n",
       "      <th>mean</th>\n",
       "      <td>2020.0</td>\n",
       "      <td>2.003980e+09</td>\n",
       "      <td>2.020022e+07</td>\n",
       "      <td>1.0</td>\n",
       "      <td>31721.408788</td>\n",
       "      <td>2.003980e+09</td>\n",
       "      <td>0.0</td>\n",
       "      <td>47.573765</td>\n",
       "    </tr>\n",
       "    <tr>\n",
       "      <th>std</th>\n",
       "      <td>0.0</td>\n",
       "      <td>2.636071e+08</td>\n",
       "      <td>2.207017e+02</td>\n",
       "      <td>0.0</td>\n",
       "      <td>38389.021783</td>\n",
       "      <td>2.636071e+08</td>\n",
       "      <td>0.0</td>\n",
       "      <td>87.483215</td>\n",
       "    </tr>\n",
       "    <tr>\n",
       "      <th>min</th>\n",
       "      <td>2020.0</td>\n",
       "      <td>1.930339e+09</td>\n",
       "      <td>2.019113e+07</td>\n",
       "      <td>1.0</td>\n",
       "      <td>10.890000</td>\n",
       "      <td>1.930339e+09</td>\n",
       "      <td>0.0</td>\n",
       "      <td>-117.000000</td>\n",
       "    </tr>\n",
       "    <tr>\n",
       "      <th>25%</th>\n",
       "      <td>2020.0</td>\n",
       "      <td>1.930410e+09</td>\n",
       "      <td>2.020020e+07</td>\n",
       "      <td>1.0</td>\n",
       "      <td>4695.995000</td>\n",
       "      <td>1.930410e+09</td>\n",
       "      <td>0.0</td>\n",
       "      <td>-1.000000</td>\n",
       "    </tr>\n",
       "    <tr>\n",
       "      <th>50%</th>\n",
       "      <td>2020.0</td>\n",
       "      <td>1.930468e+09</td>\n",
       "      <td>2.020022e+07</td>\n",
       "      <td>1.0</td>\n",
       "      <td>17379.400000</td>\n",
       "      <td>1.930468e+09</td>\n",
       "      <td>0.0</td>\n",
       "      <td>2.000000</td>\n",
       "    </tr>\n",
       "    <tr>\n",
       "      <th>75%</th>\n",
       "      <td>2020.0</td>\n",
       "      <td>1.930535e+09</td>\n",
       "      <td>2.020030e+07</td>\n",
       "      <td>1.0</td>\n",
       "      <td>46900.695000</td>\n",
       "      <td>1.930535e+09</td>\n",
       "      <td>0.0</td>\n",
       "      <td>59.000000</td>\n",
       "    </tr>\n",
       "    <tr>\n",
       "      <th>max</th>\n",
       "      <td>2020.0</td>\n",
       "      <td>2.960617e+09</td>\n",
       "      <td>2.020062e+07</td>\n",
       "      <td>1.0</td>\n",
       "      <td>702254.070000</td>\n",
       "      <td>2.960617e+09</td>\n",
       "      <td>0.0</td>\n",
       "      <td>302.000000</td>\n",
       "    </tr>\n",
       "  </tbody>\n",
       "</table>\n",
       "</div>"
      ],
      "text/plain": [
       "       buisness_year        doc_id   due_in_date  posting_id  \\\n",
       "count         5687.0  5.687000e+03  5.687000e+03      5687.0   \n",
       "mean          2020.0  2.003980e+09  2.020022e+07         1.0   \n",
       "std              0.0  2.636071e+08  2.207017e+02         0.0   \n",
       "min           2020.0  1.930339e+09  2.019113e+07         1.0   \n",
       "25%           2020.0  1.930410e+09  2.020020e+07         1.0   \n",
       "50%           2020.0  1.930468e+09  2.020022e+07         1.0   \n",
       "75%           2020.0  1.930535e+09  2.020030e+07         1.0   \n",
       "max           2020.0  2.960617e+09  2.020062e+07         1.0   \n",
       "\n",
       "       total_open_amount    invoice_id  isOpen       target  \n",
       "count        5687.000000  5.687000e+03  5687.0  5687.000000  \n",
       "mean        31721.408788  2.003980e+09     0.0    47.573765  \n",
       "std         38389.021783  2.636071e+08     0.0    87.483215  \n",
       "min            10.890000  1.930339e+09     0.0  -117.000000  \n",
       "25%          4695.995000  1.930410e+09     0.0    -1.000000  \n",
       "50%         17379.400000  1.930468e+09     0.0     2.000000  \n",
       "75%         46900.695000  1.930535e+09     0.0    59.000000  \n",
       "max        702254.070000  2.960617e+09     0.0   302.000000  "
      ]
     },
     "execution_count": 10,
     "metadata": {},
     "output_type": "execute_result"
    }
   ],
   "source": [
    "x_test.describe()"
   ]
  },
  {
   "cell_type": "code",
   "execution_count": 11,
   "metadata": {},
   "outputs": [],
   "source": [
    "# we get to see that posting_id and isOpen bboth have just one value for all data, so we remove them.\n",
    "X_train = x_train.drop(['posting_id', 'posting_id', 'document type'], axis = 1)\n",
    "X_test = x_test.drop(['posting_id', 'posting_id', 'document type'], axis = 1)"
   ]
  },
  {
   "cell_type": "code",
   "execution_count": 12,
   "metadata": {},
   "outputs": [
    {
     "data": {
      "text/plain": [
       "<matplotlib.axes._subplots.AxesSubplot at 0x1beaef3a448>"
      ]
     },
     "execution_count": 12,
     "metadata": {},
     "output_type": "execute_result"
    },
    {
     "data": {
      "image/png": "[encoded data removed]",
      "text/plain": [
       "<Figure size 720x432 with 1 Axes>"
      ]
     },
     "metadata": {
      "needs_background": "light"
     },
     "output_type": "display_data"
    }
   ],
   "source": [
    "temp = pd.DataFrame(X_train.groupby(['business_code'], axis=0, as_index=False)['target'].mean())\n",
    "plt.figure(figsize=(10,6))\n",
    "sns.barplot(x=\"business_code\", y=\"target\",data=temp,linewidth=2.5, facecolor=(1, 1, 1, 0),\n",
    "                 errcolor=\".4\", edgecolor=\"red\")"
   ]
  },
  {
   "cell_type": "code",
   "execution_count": 13,
   "metadata": {},
   "outputs": [
    {
     "data": {
      "image/png": "[encoded data removed]",
      "text/plain": [
       "<Figure size 720x432 with 1 Axes>"
      ]
     },
     "metadata": {
      "needs_background": "light"
     },
     "output_type": "display_data"
    }
   ],
   "source": [
    "temp = pd.DataFrame(X_train.groupby(['cust_number'], axis=0, as_index=False)['target'].mean())\n",
    "plt.figure(figsize=(10,6))\n",
    "graph = sns.barplot(x=\"cust_number\", y=\"target\",data=temp,linewidth=2.5, facecolor=(1, 1, 1, 0),\n",
    "                 errcolor=\".4\", edgecolor=\"red\")\n",
    "\n",
    "graph = graph.set_xticklabels(graph.get_xticklabels(), \n",
    "                          rotation=90, \n",
    "                          horizontalalignment='right')"
   ]
  },
  {
   "cell_type": "code",
   "execution_count": 14,
   "metadata": {},
   "outputs": [
    {
     "data": {
      "image/png": "[encoded data removed]",
      "text/plain": [
       "<Figure size 1440x432 with 1 Axes>"
      ]
     },
     "metadata": {
      "needs_background": "light"
     },
     "output_type": "display_data"
    }
   ],
   "source": [
    "temp = pd.DataFrame(X_train.groupby(['cust_payment_terms'], axis=0, as_index=False)['target'].mean())\n",
    "plt.figure(figsize=(20,6))\n",
    "graph = sns.barplot(x=\"cust_payment_terms\", y=\"target\",data=temp,linewidth=2.5, facecolor=(1, 1, 1, 0),\n",
    "                 errcolor=\".4\", edgecolor=\"red\")\n",
    "\n",
    "graph = graph.set_xticklabels(graph.get_xticklabels(), \n",
    "                          rotation=90, \n",
    "                          horizontalalignment='right')"
   ]
  },
  {
   "cell_type": "code",
   "execution_count": 15,
   "metadata": {},
   "outputs": [
    {
     "data": {
      "text/plain": [
       "<matplotlib.axes._subplots.AxesSubplot at 0x1beb5271d08>"
      ]
     },
     "execution_count": 15,
     "metadata": {},
     "output_type": "execute_result"
    },
    {
     "data": {
      "image/png": "[encoded data removed]",
      "text/plain": [
       "<Figure size 360x360 with 1 Axes>"
      ]
     },
     "metadata": {
      "needs_background": "light"
     },
     "output_type": "display_data"
    }
   ],
   "source": [
    "plt.figure(figsize=(5,5))\n",
    "plt.figure(1)\n",
    "sns.distplot(X_train['total_open_amount'],color='green')\n",
    "sns.distplot(X_test['total_open_amount'],color='brown')"
   ]
  },
  {
   "cell_type": "code",
   "execution_count": 16,
   "metadata": {},
   "outputs": [],
   "source": [
    "# The graph is Right Skewed: log transformation is needed.\n",
    "\n",
    "def Transform(x):\n",
    "    return np.log(x)\n",
    "\n",
    "X_train['total_open_amount'] = X_train['total_open_amount'].apply(Transform)\n",
    "X_test['total_open_amount'] = X_test['total_open_amount'].apply(Transform)"
   ]
  },
  {
   "cell_type": "code",
   "execution_count": 17,
   "metadata": {},
   "outputs": [
    {
     "data": {
      "text/plain": [
       "1038"
      ]
     },
     "execution_count": 17,
     "metadata": {},
     "output_type": "execute_result"
    }
   ],
   "source": [
    "X_train['cust_number'].nunique()"
   ]
  },
  {
   "cell_type": "code",
   "execution_count": 18,
   "metadata": {},
   "outputs": [
    {
     "data": {
      "text/plain": [
       "520"
      ]
     },
     "execution_count": 18,
     "metadata": {},
     "output_type": "execute_result"
    }
   ],
   "source": [
    "X_test['cust_number'].nunique()"
   ]
  },
  {
   "cell_type": "code",
   "execution_count": 19,
   "metadata": {},
   "outputs": [],
   "source": [
    "# print(dict(X_train['cust_number'].value_counts()))\n",
    "# taking individuals till CCU013"
   ]
  },
  {
   "cell_type": "code",
   "execution_count": 20,
   "metadata": {},
   "outputs": [],
   "source": [
    "# print(dict(X_test['cust_number'].value_counts()))"
   ]
  },
  {
   "cell_type": "code",
   "execution_count": 21,
   "metadata": {},
   "outputs": [],
   "source": [
    "# Dropping those columns which don't contribute anything for predictions.\n",
    "X_train = X_train.drop([ 'due_in_date', 'isOpen'], axis = 1)\n",
    "X_test = X_test.drop([ 'due_in_date', 'isOpen'], axis = 1)"
   ]
  },
  {
   "cell_type": "code",
   "execution_count": 22,
   "metadata": {},
   "outputs": [
    {
     "data": {
      "text/html": [
       "<div>\n",
       "<style scoped>\n",
       "    .dataframe tbody tr th:only-of-type {\n",
       "        vertical-align: middle;\n",
       "    }\n",
       "\n",
       "    .dataframe tbody tr th {\n",
       "        vertical-align: top;\n",
       "    }\n",
       "\n",
       "    .dataframe thead th {\n",
       "        text-align: right;\n",
       "    }\n",
       "</style>\n",
       "<table border=\"1\" class=\"dataframe\">\n",
       "  <thead>\n",
       "    <tr style=\"text-align: right;\">\n",
       "      <th></th>\n",
       "      <th>business_code</th>\n",
       "      <th>cust_number</th>\n",
       "      <th>name_customer</th>\n",
       "      <th>clear_date</th>\n",
       "      <th>buisness_year</th>\n",
       "      <th>doc_id</th>\n",
       "      <th>posting_date</th>\n",
       "      <th>document_create_date</th>\n",
       "      <th>invoice_currency</th>\n",
       "      <th>total_open_amount</th>\n",
       "      <th>baseline_create_date</th>\n",
       "      <th>cust_payment_terms</th>\n",
       "      <th>invoice_id</th>\n",
       "      <th>due_date</th>\n",
       "      <th>target</th>\n",
       "    </tr>\n",
       "  </thead>\n",
       "  <tbody>\n",
       "    <tr>\n",
       "      <th>0</th>\n",
       "      <td>U001</td>\n",
       "      <td>200726979</td>\n",
       "      <td>BJ'S  in</td>\n",
       "      <td>2020-01-13</td>\n",
       "      <td>2020</td>\n",
       "      <td>1930330859</td>\n",
       "      <td>29-12-2019</td>\n",
       "      <td>2019-12-28</td>\n",
       "      <td>USD</td>\n",
       "      <td>4.080246</td>\n",
       "      <td>2019-12-29</td>\n",
       "      <td>NAA8</td>\n",
       "      <td>1.930331e+09</td>\n",
       "      <td>2020-01-13</td>\n",
       "      <td>0</td>\n",
       "    </tr>\n",
       "  </tbody>\n",
       "</table>\n",
       "</div>"
      ],
      "text/plain": [
       "  business_code cust_number name_customer clear_date  buisness_year  \\\n",
       "0          U001   200726979      BJ'S  in 2020-01-13           2020   \n",
       "\n",
       "       doc_id posting_date document_create_date invoice_currency  \\\n",
       "0  1930330859   29-12-2019           2019-12-28              USD   \n",
       "\n",
       "   total_open_amount baseline_create_date cust_payment_terms    invoice_id  \\\n",
       "0           4.080246           2019-12-29               NAA8  1.930331e+09   \n",
       "\n",
       "    due_date  target  \n",
       "0 2020-01-13       0  "
      ]
     },
     "execution_count": 22,
     "metadata": {},
     "output_type": "execute_result"
    }
   ],
   "source": [
    "X_train.head(1)"
   ]
  },
  {
   "cell_type": "code",
   "execution_count": 23,
   "metadata": {},
   "outputs": [],
   "source": [
    "#print(dict(X_train['cust_number'].value_counts()))\n",
    "ref = dict(X_train['cust_number'].value_counts())\n",
    "\n",
    "\n",
    "X_train['cust_number_new'] = X_train['cust_number'].map(ref)"
   ]
  },
  {
   "cell_type": "code",
   "execution_count": 24,
   "metadata": {},
   "outputs": [],
   "source": [
    "ref1 = dict(X_test['cust_number'].value_counts())\n",
    "\n",
    "\n",
    "X_test['cust_number_new'] = X_test['cust_number'].map(ref1)"
   ]
  },
  {
   "cell_type": "code",
   "execution_count": 25,
   "metadata": {},
   "outputs": [
    {
     "data": {
      "text/html": [
       "<div>\n",
       "<style scoped>\n",
       "    .dataframe tbody tr th:only-of-type {\n",
       "        vertical-align: middle;\n",
       "    }\n",
       "\n",
       "    .dataframe tbody tr th {\n",
       "        vertical-align: top;\n",
       "    }\n",
       "\n",
       "    .dataframe thead th {\n",
       "        text-align: right;\n",
       "    }\n",
       "</style>\n",
       "<table border=\"1\" class=\"dataframe\">\n",
       "  <thead>\n",
       "    <tr style=\"text-align: right;\">\n",
       "      <th></th>\n",
       "      <th>business_code</th>\n",
       "      <th>cust_number</th>\n",
       "      <th>name_customer</th>\n",
       "      <th>clear_date</th>\n",
       "      <th>buisness_year</th>\n",
       "      <th>doc_id</th>\n",
       "      <th>posting_date</th>\n",
       "      <th>document_create_date</th>\n",
       "      <th>invoice_currency</th>\n",
       "      <th>total_open_amount</th>\n",
       "      <th>baseline_create_date</th>\n",
       "      <th>cust_payment_terms</th>\n",
       "      <th>invoice_id</th>\n",
       "      <th>due_date</th>\n",
       "      <th>target</th>\n",
       "      <th>cust_number_new</th>\n",
       "      <th>CA02</th>\n",
       "      <th>U001</th>\n",
       "      <th>U013</th>\n",
       "      <th>other</th>\n",
       "    </tr>\n",
       "  </thead>\n",
       "  <tbody>\n",
       "    <tr>\n",
       "      <th>0</th>\n",
       "      <td>U001</td>\n",
       "      <td>200726979</td>\n",
       "      <td>BJ'S  in</td>\n",
       "      <td>2020-01-13</td>\n",
       "      <td>2020</td>\n",
       "      <td>1930330859</td>\n",
       "      <td>29-12-2019</td>\n",
       "      <td>2019-12-28</td>\n",
       "      <td>USD</td>\n",
       "      <td>4.080246</td>\n",
       "      <td>2019-12-29</td>\n",
       "      <td>NAA8</td>\n",
       "      <td>1.930331e+09</td>\n",
       "      <td>2020-01-13</td>\n",
       "      <td>0</td>\n",
       "      <td>1577</td>\n",
       "      <td>0</td>\n",
       "      <td>1</td>\n",
       "      <td>0</td>\n",
       "      <td>0</td>\n",
       "    </tr>\n",
       "    <tr>\n",
       "      <th>2</th>\n",
       "      <td>U001</td>\n",
       "      <td>200434439</td>\n",
       "      <td>BAUGH SU co</td>\n",
       "      <td>2019-12-31</td>\n",
       "      <td>2019</td>\n",
       "      <td>1930188160</td>\n",
       "      <td>22-11-2019</td>\n",
       "      <td>2019-11-23</td>\n",
       "      <td>USD</td>\n",
       "      <td>11.123802</td>\n",
       "      <td>2019-11-22</td>\n",
       "      <td>NA32</td>\n",
       "      <td>1.930188e+09</td>\n",
       "      <td>2019-12-24</td>\n",
       "      <td>7</td>\n",
       "      <td>78</td>\n",
       "      <td>0</td>\n",
       "      <td>1</td>\n",
       "      <td>0</td>\n",
       "      <td>0</td>\n",
       "    </tr>\n",
       "    <tr>\n",
       "      <th>3</th>\n",
       "      <td>U001</td>\n",
       "      <td>200769623</td>\n",
       "      <td>WAL-MAR foundation</td>\n",
       "      <td>2019-06-25</td>\n",
       "      <td>2019</td>\n",
       "      <td>1929472295</td>\n",
       "      <td>13-06-2019</td>\n",
       "      <td>2019-06-11</td>\n",
       "      <td>USD</td>\n",
       "      <td>6.592496</td>\n",
       "      <td>2019-06-13</td>\n",
       "      <td>NAH4</td>\n",
       "      <td>1.929472e+09</td>\n",
       "      <td>2019-06-28</td>\n",
       "      <td>-3</td>\n",
       "      <td>9748</td>\n",
       "      <td>0</td>\n",
       "      <td>1</td>\n",
       "      <td>0</td>\n",
       "      <td>0</td>\n",
       "    </tr>\n",
       "    <tr>\n",
       "      <th>4</th>\n",
       "      <td>U001</td>\n",
       "      <td>200769623</td>\n",
       "      <td>WAL-MAR associates</td>\n",
       "      <td>2019-05-14</td>\n",
       "      <td>2019</td>\n",
       "      <td>1929243669</td>\n",
       "      <td>03-05-2019</td>\n",
       "      <td>2019-05-02</td>\n",
       "      <td>USD</td>\n",
       "      <td>10.488820</td>\n",
       "      <td>2019-05-03</td>\n",
       "      <td>NAH4</td>\n",
       "      <td>1.929244e+09</td>\n",
       "      <td>2019-05-18</td>\n",
       "      <td>-4</td>\n",
       "      <td>9748</td>\n",
       "      <td>0</td>\n",
       "      <td>1</td>\n",
       "      <td>0</td>\n",
       "      <td>0</td>\n",
       "    </tr>\n",
       "    <tr>\n",
       "      <th>5</th>\n",
       "      <td>U001</td>\n",
       "      <td>200735528</td>\n",
       "      <td>ASSOCIA trust</td>\n",
       "      <td>2019-08-30</td>\n",
       "      <td>2019</td>\n",
       "      <td>1929735102</td>\n",
       "      <td>14-08-2019</td>\n",
       "      <td>2019-08-12</td>\n",
       "      <td>USD</td>\n",
       "      <td>11.303382</td>\n",
       "      <td>2019-08-14</td>\n",
       "      <td>NAA8</td>\n",
       "      <td>1.929735e+09</td>\n",
       "      <td>2019-08-29</td>\n",
       "      <td>1</td>\n",
       "      <td>35</td>\n",
       "      <td>0</td>\n",
       "      <td>1</td>\n",
       "      <td>0</td>\n",
       "      <td>0</td>\n",
       "    </tr>\n",
       "  </tbody>\n",
       "</table>\n",
       "</div>"
      ],
      "text/plain": [
       "  business_code cust_number       name_customer clear_date  buisness_year  \\\n",
       "0          U001   200726979            BJ'S  in 2020-01-13           2020   \n",
       "2          U001   200434439         BAUGH SU co 2019-12-31           2019   \n",
       "3          U001   200769623  WAL-MAR foundation 2019-06-25           2019   \n",
       "4          U001   200769623  WAL-MAR associates 2019-05-14           2019   \n",
       "5          U001   200735528       ASSOCIA trust 2019-08-30           2019   \n",
       "\n",
       "       doc_id posting_date document_create_date invoice_currency  \\\n",
       "0  1930330859   29-12-2019           2019-12-28              USD   \n",
       "2  1930188160   22-11-2019           2019-11-23              USD   \n",
       "3  1929472295   13-06-2019           2019-06-11              USD   \n",
       "4  1929243669   03-05-2019           2019-05-02              USD   \n",
       "5  1929735102   14-08-2019           2019-08-12              USD   \n",
       "\n",
       "   total_open_amount baseline_create_date cust_payment_terms    invoice_id  \\\n",
       "0           4.080246           2019-12-29               NAA8  1.930331e+09   \n",
       "2          11.123802           2019-11-22               NA32  1.930188e+09   \n",
       "3           6.592496           2019-06-13               NAH4  1.929472e+09   \n",
       "4          10.488820           2019-05-03               NAH4  1.929244e+09   \n",
       "5          11.303382           2019-08-14               NAA8  1.929735e+09   \n",
       "\n",
       "    due_date  target  cust_number_new  CA02  U001  U013  other  \n",
       "0 2020-01-13       0             1577     0     1     0      0  \n",
       "2 2019-12-24       7               78     0     1     0      0  \n",
       "3 2019-06-28      -3             9748     0     1     0      0  \n",
       "4 2019-05-18      -4             9748     0     1     0      0  \n",
       "5 2019-08-29       1               35     0     1     0      0  "
      ]
     },
     "execution_count": 25,
     "metadata": {},
     "output_type": "execute_result"
    }
   ],
   "source": [
    "# It is clear that U002 afterwards all business codes are meager so we take it as others.\n",
    "\n",
    "X_train = X_train.replace(['U002', 'U005', 'U007'], 'other')\n",
    "X_test = X_test.replace(['U002', 'U005', 'U007'], 'other')\n",
    "\n",
    "business = pd.get_dummies(X_train['business_code'])\n",
    "business1 = pd.get_dummies(X_test['business_code'])\n",
    "# Above in the business_code column we can see they are categorical ones, so we make new feature\n",
    "# out of them \n",
    "X_train = pd.concat([X_train, business], axis=1)\n",
    "X_test = pd.concat([X_test, business1], axis=1)\n",
    "\n",
    "X_train.head()"
   ]
  },
  {
   "cell_type": "code",
   "execution_count": 26,
   "metadata": {},
   "outputs": [],
   "source": [
    "ref2 = dict(X_train['cust_payment_terms'].value_counts())\n",
    "\n",
    "\n",
    "X_train['cust_payment_terms_new'] = X_train['cust_payment_terms'].map(ref2)"
   ]
  },
  {
   "cell_type": "code",
   "execution_count": 27,
   "metadata": {},
   "outputs": [],
   "source": [
    "ref3 = dict(X_test['cust_payment_terms'].value_counts())\n",
    "\n",
    "\n",
    "X_test['cust_payment_terms_new'] = X_test['cust_payment_terms'].map(ref3)"
   ]
  },
  {
   "cell_type": "code",
   "execution_count": 28,
   "metadata": {},
   "outputs": [
    {
     "data": {
      "text/html": [
       "<div>\n",
       "<style scoped>\n",
       "    .dataframe tbody tr th:only-of-type {\n",
       "        vertical-align: middle;\n",
       "    }\n",
       "\n",
       "    .dataframe tbody tr th {\n",
       "        vertical-align: top;\n",
       "    }\n",
       "\n",
       "    .dataframe thead th {\n",
       "        text-align: right;\n",
       "    }\n",
       "</style>\n",
       "<table border=\"1\" class=\"dataframe\">\n",
       "  <thead>\n",
       "    <tr style=\"text-align: right;\">\n",
       "      <th></th>\n",
       "      <th>business_code</th>\n",
       "      <th>cust_number</th>\n",
       "      <th>name_customer</th>\n",
       "      <th>clear_date</th>\n",
       "      <th>buisness_year</th>\n",
       "      <th>doc_id</th>\n",
       "      <th>posting_date</th>\n",
       "      <th>document_create_date</th>\n",
       "      <th>invoice_currency</th>\n",
       "      <th>total_open_amount</th>\n",
       "      <th>...</th>\n",
       "      <th>cust_payment_terms</th>\n",
       "      <th>invoice_id</th>\n",
       "      <th>due_date</th>\n",
       "      <th>target</th>\n",
       "      <th>cust_number_new</th>\n",
       "      <th>CA02</th>\n",
       "      <th>U001</th>\n",
       "      <th>U013</th>\n",
       "      <th>other</th>\n",
       "      <th>cust_payment_terms_new</th>\n",
       "    </tr>\n",
       "  </thead>\n",
       "  <tbody>\n",
       "    <tr>\n",
       "      <th>0</th>\n",
       "      <td>U001</td>\n",
       "      <td>200726979</td>\n",
       "      <td>BJ'S  in</td>\n",
       "      <td>2020-01-13</td>\n",
       "      <td>2020</td>\n",
       "      <td>1930330859</td>\n",
       "      <td>29-12-2019</td>\n",
       "      <td>2019-12-28</td>\n",
       "      <td>USD</td>\n",
       "      <td>4.080246</td>\n",
       "      <td>...</td>\n",
       "      <td>NAA8</td>\n",
       "      <td>1.930331e+09</td>\n",
       "      <td>2020-01-13</td>\n",
       "      <td>0</td>\n",
       "      <td>1577</td>\n",
       "      <td>0</td>\n",
       "      <td>1</td>\n",
       "      <td>0</td>\n",
       "      <td>0</td>\n",
       "      <td>16074</td>\n",
       "    </tr>\n",
       "    <tr>\n",
       "      <th>2</th>\n",
       "      <td>U001</td>\n",
       "      <td>200434439</td>\n",
       "      <td>BAUGH SU co</td>\n",
       "      <td>2019-12-31</td>\n",
       "      <td>2019</td>\n",
       "      <td>1930188160</td>\n",
       "      <td>22-11-2019</td>\n",
       "      <td>2019-11-23</td>\n",
       "      <td>USD</td>\n",
       "      <td>11.123802</td>\n",
       "      <td>...</td>\n",
       "      <td>NA32</td>\n",
       "      <td>1.930188e+09</td>\n",
       "      <td>2019-12-24</td>\n",
       "      <td>7</td>\n",
       "      <td>78</td>\n",
       "      <td>0</td>\n",
       "      <td>1</td>\n",
       "      <td>0</td>\n",
       "      <td>0</td>\n",
       "      <td>634</td>\n",
       "    </tr>\n",
       "  </tbody>\n",
       "</table>\n",
       "<p>2 rows × 21 columns</p>\n",
       "</div>"
      ],
      "text/plain": [
       "  business_code cust_number name_customer clear_date  buisness_year  \\\n",
       "0          U001   200726979      BJ'S  in 2020-01-13           2020   \n",
       "2          U001   200434439   BAUGH SU co 2019-12-31           2019   \n",
       "\n",
       "       doc_id posting_date document_create_date invoice_currency  \\\n",
       "0  1930330859   29-12-2019           2019-12-28              USD   \n",
       "2  1930188160   22-11-2019           2019-11-23              USD   \n",
       "\n",
       "   total_open_amount  ... cust_payment_terms    invoice_id   due_date target  \\\n",
       "0           4.080246  ...               NAA8  1.930331e+09 2020-01-13      0   \n",
       "2          11.123802  ...               NA32  1.930188e+09 2019-12-24      7   \n",
       "\n",
       "   cust_number_new  CA02  U001  U013  other  cust_payment_terms_new  \n",
       "0             1577     0     1     0      0                   16074  \n",
       "2               78     0     1     0      0                     634  \n",
       "\n",
       "[2 rows x 21 columns]"
      ]
     },
     "execution_count": 28,
     "metadata": {},
     "output_type": "execute_result"
    }
   ],
   "source": [
    "X_train.head(2)"
   ]
  },
  {
   "cell_type": "code",
   "execution_count": 29,
   "metadata": {},
   "outputs": [
    {
     "data": {
      "text/plain": [
       "<matplotlib.axes._subplots.AxesSubplot at 0x1beb6baf708>"
      ]
     },
     "execution_count": 29,
     "metadata": {},
     "output_type": "execute_result"
    },
    {
     "data": {
      "image/png": "[encoded data removed]",
      "text/plain": [
       "<Figure size 360x360 with 1 Axes>"
      ]
     },
     "metadata": {
      "needs_background": "light"
     },
     "output_type": "display_data"
    }
   ],
   "source": [
    "plt.figure(figsize=(5,5))\n",
    "plt.figure(1)\n",
    "sns.distplot(X_train['cust_number_new'],color='green')"
   ]
  },
  {
   "cell_type": "code",
   "execution_count": 30,
   "metadata": {},
   "outputs": [
    {
     "data": {
      "text/plain": [
       "<matplotlib.axes._subplots.AxesSubplot at 0x1beaf01d7c8>"
      ]
     },
     "execution_count": 30,
     "metadata": {},
     "output_type": "execute_result"
    },
    {
     "data": {
      "image/png": "[encoded data removed]",
      "text/plain": [
       "<Figure size 360x360 with 1 Axes>"
      ]
     },
     "metadata": {
      "needs_background": "light"
     },
     "output_type": "display_data"
    }
   ],
   "source": [
    "plt.figure(figsize=(5,5))\n",
    "plt.figure(1)\n",
    "sns.distplot(X_test['cust_payment_terms_new'],color='brown')"
   ]
  },
  {
   "cell_type": "code",
   "execution_count": 31,
   "metadata": {},
   "outputs": [
    {
     "data": {
      "text/plain": [
       "1.1682284000491865"
      ]
     },
     "execution_count": 31,
     "metadata": {},
     "output_type": "execute_result"
    }
   ],
   "source": [
    "X_train['cust_number_new'].skew()"
   ]
  },
  {
   "cell_type": "code",
   "execution_count": 32,
   "metadata": {},
   "outputs": [
    {
     "data": {
      "text/plain": [
       "-0.42534301669998836"
      ]
     },
     "execution_count": 32,
     "metadata": {},
     "output_type": "execute_result"
    }
   ],
   "source": [
    "X_train['cust_payment_terms_new'].skew()"
   ]
  },
  {
   "cell_type": "code",
   "execution_count": 33,
   "metadata": {},
   "outputs": [],
   "source": [
    "from scipy.stats import boxcox"
   ]
  },
  {
   "cell_type": "code",
   "execution_count": 34,
   "metadata": {},
   "outputs": [
    {
     "data": {
      "text/plain": [
       "<matplotlib.axes._subplots.AxesSubplot at 0x1beaf080c88>"
      ]
     },
     "execution_count": 34,
     "metadata": {},
     "output_type": "execute_result"
    },
    {
     "data": {
      "image/png": "[encoded data removed]",
      "text/plain": [
       "<Figure size 360x360 with 1 Axes>"
      ]
     },
     "metadata": {
      "needs_background": "light"
     },
     "output_type": "display_data"
    }
   ],
   "source": [
    "\"\"\"\n",
    "lambda = -1. is a reciprocal transform.\n",
    "lambda = -0.5 is a reciprocal square root transform.\n",
    "lambda = 0.0 is a log transform.\n",
    "lambda = 0.5 is a square root transform.\n",
    "lambda = 1.0 is no transform.\n",
    "\"\"\"\n",
    "\n",
    "df = boxcox(X_train['cust_number_new'], 0.0)\n",
    "# df1 = boxcox(df, 0.0)\n",
    "plt.figure(figsize=(5,5))\n",
    "plt.figure(1)\n",
    "sns.distplot(df,color='green')"
   ]
  },
  {
   "cell_type": "code",
   "execution_count": 35,
   "metadata": {},
   "outputs": [],
   "source": [
    "X_train['cust_number_new'] = df"
   ]
  },
  {
   "cell_type": "code",
   "execution_count": 36,
   "metadata": {},
   "outputs": [
    {
     "data": {
      "text/plain": [
       "<matplotlib.axes._subplots.AxesSubplot at 0x1beaf19d1c8>"
      ]
     },
     "execution_count": 36,
     "metadata": {},
     "output_type": "execute_result"
    },
    {
     "data": {
      "image/png": "[encoded data removed]",
      "text/plain": [
       "<Figure size 360x360 with 1 Axes>"
      ]
     },
     "metadata": {
      "needs_background": "light"
     },
     "output_type": "display_data"
    }
   ],
   "source": [
    "df1 = boxcox(X_train['cust_payment_terms_new'], 0.5)\n",
    "# df1 = boxcox(df, 0.0)\n",
    "plt.figure(figsize=(5,5))\n",
    "plt.figure(1)\n",
    "sns.distplot(df1,color='brown')"
   ]
  },
  {
   "cell_type": "code",
   "execution_count": 37,
   "metadata": {},
   "outputs": [],
   "source": [
    "X_train['cust_payment_terms_new'] = df1"
   ]
  },
  {
   "cell_type": "code",
   "execution_count": 38,
   "metadata": {},
   "outputs": [],
   "source": [
    "df2 = boxcox(X_test['cust_number_new'], 0.0)\n",
    "X_test['cust_number_new'] = df2"
   ]
  },
  {
   "cell_type": "code",
   "execution_count": 39,
   "metadata": {},
   "outputs": [],
   "source": [
    "df3 = boxcox(X_test['cust_payment_terms_new'], 0.0)\n",
    "X_test['cust_payment_terms_new'] = df3"
   ]
  },
  {
   "cell_type": "code",
   "execution_count": 40,
   "metadata": {},
   "outputs": [],
   "source": [
    "# creating new data from document_create_date."
   ]
  },
  {
   "cell_type": "code",
   "execution_count": 41,
   "metadata": {},
   "outputs": [],
   "source": [
    "import datetime as dt"
   ]
  },
  {
   "cell_type": "code",
   "execution_count": 42,
   "metadata": {},
   "outputs": [],
   "source": [
    "X_train['year'] = X_train['document_create_date'].dt.year\n",
    "X_train['month'] = X_train['document_create_date'].dt.month\n",
    "X_train['day'] = X_train['document_create_date'].dt.day\n",
    "X_train['week'] = X_train['document_create_date'].dt.week\n",
    "X_train['which_day'] = X_train['document_create_date'].dt.dayofweek\n",
    "X_train['quarter'] = X_train['document_create_date'].dt.quarter"
   ]
  },
  {
   "cell_type": "code",
   "execution_count": 43,
   "metadata": {},
   "outputs": [
    {
     "data": {
      "text/plain": [
       "Index(['business_code', 'cust_number', 'name_customer', 'clear_date',\n",
       "       'buisness_year', 'doc_id', 'posting_date', 'document_create_date',\n",
       "       'invoice_currency', 'total_open_amount', 'baseline_create_date',\n",
       "       'cust_payment_terms', 'invoice_id', 'due_date', 'target',\n",
       "       'cust_number_new', 'CA02', 'U001', 'U013', 'other',\n",
       "       'cust_payment_terms_new', 'year', 'month', 'day', 'week', 'which_day',\n",
       "       'quarter'],\n",
       "      dtype='object')"
      ]
     },
     "execution_count": 43,
     "metadata": {},
     "output_type": "execute_result"
    }
   ],
   "source": [
    "X_train.columns"
   ]
  },
  {
   "cell_type": "code",
   "execution_count": 44,
   "metadata": {},
   "outputs": [],
   "source": [
    "invoice_dic = {'USD': 1, 'CAD': 0}\n",
    "X_train['invoice_currency'] = X_train['invoice_currency'].map(invoice_dic)"
   ]
  },
  {
   "cell_type": "code",
   "execution_count": 45,
   "metadata": {},
   "outputs": [],
   "source": [
    "X_test['year'] = X_test['document_create_date'].dt.year\n",
    "X_test['month'] = X_test['document_create_date'].dt.month\n",
    "X_test['day'] = X_test['document_create_date'].dt.day\n",
    "X_test['week'] = X_test['document_create_date'].dt.week\n",
    "X_test['which_day'] = X_test['document_create_date'].dt.dayofweek\n",
    "X_test['quarter'] = X_test['document_create_date'].dt.quarter\n",
    "\n",
    "X_test['invoice_currency'] = X_test['invoice_currency'].map(invoice_dic)"
   ]
  },
  {
   "cell_type": "code",
   "execution_count": 47,
   "metadata": {},
   "outputs": [],
   "source": [
    "X_train1 = X_train.drop(['business_code', 'cust_number', 'name_customer', 'doc_id', 'cust_payment_terms'\n",
    "                        , 'invoice_id'], axis = 1)\n",
    "\n",
    "X_test1 = X_test.drop(['business_code', 'cust_number', 'name_customer', 'doc_id', 'cust_payment_terms'\n",
    "                        , 'invoice_id'], axis = 1)"
   ]
  },
  {
   "cell_type": "code",
   "execution_count": 48,
   "metadata": {},
   "outputs": [],
   "source": [
    "X_train1['clear_date']= pd.to_datetime(X_train1['clear_date']) \n",
    "\n",
    "# Creating target variable\n",
    "X_train1['expected_target'] = (X_train1['due_date'] - X_train1['baseline_create_date']).dt.days\n",
    "\n",
    "X_test1['clear_date']= pd.to_datetime(X_test1['clear_date']) \n",
    "\n",
    "# Creating target variable\n",
    "X_test1['expected_target'] = (X_test1['due_date'] - X_test1['baseline_create_date']).dt.days"
   ]
  },
  {
   "cell_type": "code",
   "execution_count": null,
   "metadata": {},
   "outputs": [],
   "source": []
  },
  {
   "cell_type": "code",
   "execution_count": 49,
   "metadata": {},
   "outputs": [
    {
     "data": {
      "text/plain": [
       "<matplotlib.axes._subplots.AxesSubplot at 0x1beaf252e88>"
      ]
     },
     "execution_count": 49,
     "metadata": {},
     "output_type": "execute_result"
    },
    {
     "data": {
      "image/png": "[encoded data removed]",
      "text/plain": [
       "<Figure size 1080x1080 with 2 Axes>"
      ]
     },
     "metadata": {
      "needs_background": "light"
     },
     "output_type": "display_data"
    }
   ],
   "source": [
    "# X_final.columns\n",
    "plt.figure(figsize=(15,15))\n",
    "sns.heatmap(X_train1.corr(),annot=True,cmap='viridis',linewidths=.5)"
   ]
  },
  {
   "cell_type": "code",
   "execution_count": 50,
   "metadata": {},
   "outputs": [],
   "source": [
    "# dropping columns that won't help in predictions. Note on feature has high correlation with target variable.\n",
    "X_final = X_train1.drop(['clear_date', 'posting_date', 'document_create_date', 'baseline_create_date','due_date'], axis = 1)\n",
    "\n",
    "X_final_test = X_test1.drop(['clear_date', 'posting_date', 'document_create_date', 'baseline_create_date','due_date'], axis = 1)"
   ]
  },
  {
   "cell_type": "code",
   "execution_count": 51,
   "metadata": {},
   "outputs": [],
   "source": [
    "X_final = X_final.drop(['CA02', 'week', 'U001'], axis = 1)\n",
    "\n",
    "X_final_test = X_final_test.drop(['CA02', 'week', 'U001'], axis = 1)"
   ]
  },
  {
   "cell_type": "code",
   "execution_count": 59,
   "metadata": {},
   "outputs": [],
   "source": [
    "X_final['target'] = X_train1['target']"
   ]
  },
  {
   "cell_type": "code",
   "execution_count": 60,
   "metadata": {},
   "outputs": [],
   "source": [
    "y = X_final['target']\n",
    "X_final = X_final.drop(['target'], axis = 1)\n",
    "Xtrain ,Xtest, ytrain, ytest = train_test_split(X_final, y, test_size = 0.1, random_state=0)"
   ]
  },
  {
   "cell_type": "code",
   "execution_count": 61,
   "metadata": {},
   "outputs": [
    {
     "name": "stdout",
     "output_type": "stream",
     "text": [
      "[]\n"
     ]
    }
   ],
   "source": [
    "l = list(np.isfinite(ytrain))\n",
    "print([x for x in l if x == False])"
   ]
  },
  {
   "cell_type": "code",
   "execution_count": 62,
   "metadata": {},
   "outputs": [
    {
     "name": "stdout",
     "output_type": "stream",
     "text": [
      "[]\n"
     ]
    }
   ],
   "source": [
    "lp = list(np.isfinite(Xtrain))\n",
    "print([x for x in lp if x == False])"
   ]
  },
  {
   "cell_type": "code",
   "execution_count": 78,
   "metadata": {},
   "outputs": [],
   "source": [
    "random_model = RandomForestRegressor(n_estimators=500, random_state = 42)"
   ]
  },
  {
   "cell_type": "code",
   "execution_count": 79,
   "metadata": {},
   "outputs": [
    {
     "name": "stdout",
     "output_type": "stream",
     "text": [
      "93.69 %\n"
     ]
    }
   ],
   "source": [
    "#Fit\n",
    "random_model.fit(Xtrain, ytrain)\n",
    "\n",
    "y_pred3 = random_model.predict(Xtest)\n",
    "\n",
    "#Checking the accuracy\n",
    "random_model_accuracy = round(random_model.score(Xtrain, ytrain)*100,2)\n",
    "print(round(random_model_accuracy, 2), '%')"
   ]
  },
  {
   "cell_type": "code",
   "execution_count": 80,
   "metadata": {},
   "outputs": [
    {
     "name": "stdout",
     "output_type": "stream",
     "text": [
      "52.77 %\n"
     ]
    }
   ],
   "source": [
    "#Checking the accuracy\n",
    "random_model_accuracy1 = round(random_model.score(Xtest, ytest)*100,2)\n",
    "print(round(random_model_accuracy1, 2), '%')"
   ]
  },
  {
   "cell_type": "code",
   "execution_count": 73,
   "metadata": {},
   "outputs": [],
   "source": [
    "# Standardizing the data - it was better before lol.\n",
    "\n",
    "from sklearn.preprocessing import StandardScaler\n",
    "\n",
    "sc = StandardScaler()\n",
    "xtrain = sc.fit_transform(Xtrain)\n",
    "xtest = sc.transform(Xtest)"
   ]
  },
  {
   "cell_type": "code",
   "execution_count": 74,
   "metadata": {},
   "outputs": [],
   "source": [
    "random_model.fit(xtrain, ytrain)\n",
    "y_pred = random_model.predict(xtest)"
   ]
  },
  {
   "cell_type": "code",
   "execution_count": 75,
   "metadata": {},
   "outputs": [
    {
     "name": "stdout",
     "output_type": "stream",
     "text": [
      "93.69 %\n"
     ]
    }
   ],
   "source": [
    "#Checking the accuracy\n",
    "random_model_accuracy2 = round(random_model.score(xtrain, ytrain)*100,2)\n",
    "print(round(random_model_accuracy2, 2), '%')"
   ]
  },
  {
   "cell_type": "code",
   "execution_count": 76,
   "metadata": {},
   "outputs": [
    {
     "name": "stdout",
     "output_type": "stream",
     "text": [
      "52.63 %\n"
     ]
    }
   ],
   "source": [
    "#Checking the accuracy\n",
    "random_model_accuracy3 = round(random_model.score(xtest, ytest)*100,2)\n",
    "print(round(random_model_accuracy3, 2), '%')"
   ]
  },
  {
   "cell_type": "code",
   "execution_count": 77,
   "metadata": {},
   "outputs": [],
   "source": [
    "#  Using Scikit-Learn’s RandomizedSearchCV method, we can define a grid of hyperparameter ranges, and randomly \n",
    "# sample from the grid, performing K-Fold CV with each combination of values."
   ]
  },
  {
   "cell_type": "code",
   "execution_count": 81,
   "metadata": {},
   "outputs": [
    {
     "name": "stdout",
     "output_type": "stream",
     "text": [
      "{'bootstrap': True, 'ccp_alpha': 0.0, 'criterion': 'mse', 'max_depth': None, 'max_features': 'auto', 'max_leaf_nodes': None, 'max_samples': None, 'min_impurity_decrease': 0.0, 'min_impurity_split': None, 'min_samples_leaf': 1, 'min_samples_split': 2, 'min_weight_fraction_leaf': 0.0, 'n_estimators': 500, 'n_jobs': None, 'oob_score': False, 'random_state': 42, 'verbose': 0, 'warm_start': False}\n"
     ]
    }
   ],
   "source": [
    "# parameters of random forest regressor.\n",
    "print(random_model.get_params())"
   ]
  },
  {
   "cell_type": "code",
   "execution_count": 82,
   "metadata": {},
   "outputs": [],
   "source": [
    "\"\"\"\n",
    "n_estimators = number of trees in the foreset\n",
    "max_features = max number of features considered for splitting a node\n",
    "max_depth = max number of levels in each decision tree\n",
    "min_samples_split = min number of data points placed in a node before the node is split\n",
    "min_samples_leaf = min number of data points allowed in a leaf node\n",
    "bootstrap = method for sampling data points (with or without replacement)\n",
    "\"\"\"\n",
    "\n",
    "from sklearn.model_selection import RandomizedSearchCV"
   ]
  },
  {
   "cell_type": "code",
   "execution_count": 84,
   "metadata": {},
   "outputs": [
    {
     "name": "stdout",
     "output_type": "stream",
     "text": [
      "{'n_estimators': [200, 255, 311, 366, 422, 477, 533, 588, 644, 700], 'max_features': ['auto', 'sqrt'], 'max_depth': [10, 14, 19, 23, 28, 32, 37, 41, 46, 50, 55, None], 'min_samples_split': [2, 5, 10], 'min_samples_leaf': [1, 2, 4], 'bootstrap': [True, False]}\n"
     ]
    }
   ],
   "source": [
    "# Number of trees in random forest\n",
    "n_estimators = [int(x) for x in np.linspace(start = 200, stop = 700, num = 10)]\n",
    "# Number of features to consider at every split\n",
    "max_features = ['auto', 'sqrt']\n",
    "# Maximum number of levels in tree\n",
    "max_depth = [int(x) for x in np.linspace(10, 55, num = 11)]\n",
    "max_depth.append(None)\n",
    "# Minimum number of samples required to split a node\n",
    "min_samples_split = [2, 5, 10]\n",
    "# Minimum number of samples required at each leaf node\n",
    "min_samples_leaf = [1, 2, 4]\n",
    "# Method of selecting samples for training each tree\n",
    "bootstrap = [True, False]\n",
    "# Create the random grid\n",
    "random_grid = {'n_estimators': n_estimators,\n",
    "               'max_features': max_features,\n",
    "               'max_depth': max_depth,\n",
    "               'min_samples_split': min_samples_split,\n",
    "               'min_samples_leaf': min_samples_leaf,\n",
    "               'bootstrap': bootstrap}\n",
    "print(random_grid)"
   ]
  },
  {
   "cell_type": "code",
   "execution_count": 85,
   "metadata": {},
   "outputs": [
    {
     "name": "stdout",
     "output_type": "stream",
     "text": [
      "Fitting 3 folds for each of 100 candidates, totalling 300 fits\n"
     ]
    },
    {
     "name": "stderr",
     "output_type": "stream",
     "text": [
      "[Parallel(n_jobs=-1)]: Using backend LokyBackend with 8 concurrent workers.\n",
      "[Parallel(n_jobs=-1)]: Done  25 tasks      | elapsed:  4.0min\n",
      "[Parallel(n_jobs=-1)]: Done 146 tasks      | elapsed: 19.9min\n",
      "[Parallel(n_jobs=-1)]: Done 300 out of 300 | elapsed: 44.0min finished\n"
     ]
    },
    {
     "data": {
      "text/plain": [
       "RandomizedSearchCV(cv=3, estimator=RandomForestRegressor(), n_iter=100,\n",
       "                   n_jobs=-1,\n",
       "                   param_distributions={'bootstrap': [True, False],\n",
       "                                        'max_depth': [10, 14, 19, 23, 28, 32,\n",
       "                                                      37, 41, 46, 50, 55,\n",
       "                                                      None],\n",
       "                                        'max_features': ['auto', 'sqrt'],\n",
       "                                        'min_samples_leaf': [1, 2, 4],\n",
       "                                        'min_samples_split': [2, 5, 10],\n",
       "                                        'n_estimators': [200, 255, 311, 366,\n",
       "                                                         422, 477, 533, 588,\n",
       "                                                         644, 700]},\n",
       "                   random_state=42, verbose=2)"
      ]
     },
     "execution_count": 85,
     "metadata": {},
     "output_type": "execute_result"
    }
   ],
   "source": [
    "# First create the base model to tune\n",
    "rf = RandomForestRegressor()\n",
    "# Random search of parameters, using 3 fold cross validation, \n",
    "# search across 100 different combinations, and use all available cores\n",
    "\n",
    "# n_iter, which controls the number of different combinations to try, and cv which is the number of folds to use for cross validation\n",
    "rf_random = RandomizedSearchCV(estimator = rf, param_distributions = random_grid, n_iter = 100, cv = 3, verbose=2, random_state=42, n_jobs = -1)\n",
    "# Fit the random search model\n",
    "rf_random.fit(xtrain, ytrain)"
   ]
  },
  {
   "cell_type": "code",
   "execution_count": 86,
   "metadata": {},
   "outputs": [
    {
     "data": {
      "text/plain": [
       "{'n_estimators': 588,\n",
       " 'min_samples_split': 10,\n",
       " 'min_samples_leaf': 1,\n",
       " 'max_features': 'sqrt',\n",
       " 'max_depth': None,\n",
       " 'bootstrap': True}"
      ]
     },
     "execution_count": 86,
     "metadata": {},
     "output_type": "execute_result"
    }
   ],
   "source": [
    "rf_random.best_params_"
   ]
  },
  {
   "cell_type": "code",
   "execution_count": 94,
   "metadata": {},
   "outputs": [],
   "source": [
    "random_model1 = RandomForestRegressor(n_estimators = 588, min_samples_split = 10, min_samples_leaf = 1, max_features = 'sqrt',\n",
    "                                      max_depth = None, bootstrap = True)"
   ]
  },
  {
   "cell_type": "code",
   "execution_count": 97,
   "metadata": {},
   "outputs": [
    {
     "name": "stdout",
     "output_type": "stream",
     "text": [
      "76.3 %\n"
     ]
    }
   ],
   "source": [
    "#Fit\n",
    "random_model1.fit(Xtrain, ytrain)\n",
    "\n",
    "y_pred3 = random_model1.predict(Xtest)\n",
    "\n",
    "#Checking the accuracy\n",
    "random_model_accuracy = round(random_model1.score(Xtrain, ytrain)*100,2)\n",
    "print(round(random_model_accuracy, 2), '%')"
   ]
  },
  {
   "cell_type": "code",
   "execution_count": 98,
   "metadata": {},
   "outputs": [
    {
     "name": "stdout",
     "output_type": "stream",
     "text": [
      "55.04 %\n"
     ]
    }
   ],
   "source": [
    "#Checking the accuracy\n",
    "random_model_accuracy1 = round(random_model1.score(Xtest, ytest)*100,2)\n",
    "print(round(random_model_accuracy1, 2), '%')"
   ]
  },
  {
   "cell_type": "code",
   "execution_count": 99,
   "metadata": {},
   "outputs": [],
   "source": [
    "# the first two models were overfitting, but this randomCV model is not, gives a little better accuracy than before."
   ]
  },
  {
   "cell_type": "code",
   "execution_count": null,
   "metadata": {},
   "outputs": [],
   "source": []
  }
 ],
 "metadata": {
  "kernelspec": {
   "display_name": "Python 3",
   "language": "python",
   "name": "python3"
  },
  "language_info": {
   "codemirror_mode": {
    "name": "ipython",
    "version": 3
   },
   "file_extension": ".py",
   "mimetype": "text/x-python",
   "name": "python",
   "nbconvert_exporter": "python",
   "pygments_lexer": "ipython3",
   "version": "3.7.6"
  }
 },
 "nbformat": 4,
 "nbformat_minor": 4
}
