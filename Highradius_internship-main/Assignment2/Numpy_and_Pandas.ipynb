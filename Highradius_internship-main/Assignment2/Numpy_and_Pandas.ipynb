{
 "cells": [
  {
   "cell_type": "markdown",
   "metadata": {},
   "source": [
    "## Part - A"
   ]
  },
  {
   "cell_type": "code",
   "execution_count": 1,
   "metadata": {},
   "outputs": [],
   "source": [
    "import pandas as pd\n",
    "\n",
    "df = pd.DataFrame({'A': ['group1', 'group1', 'group2', 'group1','group2',\n",
    "'group1', 'group2', 'group2','group2','group1'],\n",
    "'B': ['true', 'true', 'true', 'false', 'false', 'false', 'false', 'true','false','true']})"
   ]
  },
  {
   "cell_type": "code",
   "execution_count": 2,
   "metadata": {},
   "outputs": [],
   "source": [
    "# df.head()"
   ]
  },
  {
   "cell_type": "code",
   "execution_count": 3,
   "metadata": {},
   "outputs": [
    {
     "data": {
      "text/plain": [
       "group1    5\n",
       "group2    5\n",
       "Name: A, dtype: int64"
      ]
     },
     "execution_count": 3,
     "metadata": {},
     "output_type": "execute_result"
    }
   ],
   "source": [
    "df['A'].value_counts()"
   ]
  },
  {
   "cell_type": "code",
   "execution_count": 4,
   "metadata": {},
   "outputs": [
    {
     "name": "stdout",
     "output_type": "stream",
     "text": [
      "0.6  for group1\n",
      "0.6  for group1\n"
     ]
    }
   ],
   "source": [
    "var1 = df[df['A'] == 'group1']\n",
    "var2 = df[df['B'] == 'group2']\n",
    "# var1.head()\n",
    "print(var1['B'].value_counts()[0]/len(var1['B']), ' for group1') # number of true/total cases\n",
    "print(var1['B'].value_counts()[0]/len(var1['B']), ' for group1')"
   ]
  },
  {
   "cell_type": "code",
   "execution_count": 5,
   "metadata": {},
   "outputs": [],
   "source": [
    "# this shows both have same number of true cases."
   ]
  },
  {
   "cell_type": "code",
   "execution_count": 6,
   "metadata": {},
   "outputs": [],
   "source": [
    "ser1 = pd.Series([1, 2, 3, 4, 5])"
   ]
  },
  {
   "cell_type": "code",
   "execution_count": 7,
   "metadata": {},
   "outputs": [],
   "source": [
    "ser2 = pd.Series([4, 5, 6, 7, 8])"
   ]
  },
  {
   "cell_type": "code",
   "execution_count": 8,
   "metadata": {},
   "outputs": [],
   "source": [
    "ser1_set = set(ser1)\n",
    "ser2_set = set(ser2)"
   ]
  },
  {
   "cell_type": "code",
   "execution_count": 9,
   "metadata": {},
   "outputs": [
    {
     "data": {
      "text/plain": [
       "{4, 5}"
      ]
     },
     "execution_count": 9,
     "metadata": {},
     "output_type": "execute_result"
    }
   ],
   "source": [
    "ser1_set.intersection(ser2_set) # common to both"
   ]
  },
  {
   "cell_type": "code",
   "execution_count": 10,
   "metadata": {},
   "outputs": [],
   "source": [
    " not_common = ser1_set.union(ser2_set) - ser1_set.intersection(ser2_set)"
   ]
  },
  {
   "cell_type": "code",
   "execution_count": 11,
   "metadata": {},
   "outputs": [
    {
     "data": {
      "text/plain": [
       "{1, 2, 3, 6, 7, 8}"
      ]
     },
     "execution_count": 11,
     "metadata": {},
     "output_type": "execute_result"
    }
   ],
   "source": [
    "not_common # not common elements"
   ]
  },
  {
   "cell_type": "code",
   "execution_count": 12,
   "metadata": {},
   "outputs": [
    {
     "data": {
      "text/plain": [
       "0    1\n",
       "1    3\n",
       "Name: Numbers, dtype: int64"
      ]
     },
     "execution_count": 12,
     "metadata": {},
     "output_type": "execute_result"
    }
   ],
   "source": [
    "Ser = pd.Series([1, 3, 6, 10, 15, 21, 27, 35])\n",
    "Ser.name = \"Numbers\"\n",
    "Ser.head(2)"
   ]
  },
  {
   "cell_type": "code",
   "execution_count": 13,
   "metadata": {},
   "outputs": [
    {
     "data": {
      "text/plain": [
       "Int64Index([1, 2, 4, 5, 6], dtype='int64')"
      ]
     },
     "execution_count": 13,
     "metadata": {},
     "output_type": "execute_result"
    }
   ],
   "source": [
    "ser_multiple = Ser[Ser.values%3 == 0]\n",
    "ser_multiple.head(2) # now we can take the index of ser_multiple and get the index of multiples of 3\n",
    "ser_multiple.index"
   ]
  },
  {
   "cell_type": "code",
   "execution_count": 14,
   "metadata": {},
   "outputs": [
    {
     "name": "stdout",
     "output_type": "stream",
     "text": [
      "[nan, 2.0, 3.0, 4.0, 5.0, 6.0, 6.0, 8.0]\n"
     ]
    }
   ],
   "source": [
    "print(Ser.diff().tolist()) # gives consecutive differences and stores in a list."
   ]
  },
  {
   "cell_type": "markdown",
   "metadata": {},
   "source": [
    "## Part - B"
   ]
  },
  {
   "cell_type": "code",
   "execution_count": 15,
   "metadata": {},
   "outputs": [
    {
     "data": {
      "text/html": [
       "<div>\n",
       "<style scoped>\n",
       "    .dataframe tbody tr th:only-of-type {\n",
       "        vertical-align: middle;\n",
       "    }\n",
       "\n",
       "    .dataframe tbody tr th {\n",
       "        vertical-align: top;\n",
       "    }\n",
       "\n",
       "    .dataframe thead th {\n",
       "        text-align: right;\n",
       "    }\n",
       "</style>\n",
       "<table border=\"1\" class=\"dataframe\">\n",
       "  <thead>\n",
       "    <tr style=\"text-align: right;\">\n",
       "      <th></th>\n",
       "      <th>Unnamed: 0</th>\n",
       "      <th>Unnamed: 0.1</th>\n",
       "      <th>school_state</th>\n",
       "      <th>teacher_prefix</th>\n",
       "      <th>project_grade_category</th>\n",
       "      <th>teacher_number_of_previously_posted_projects</th>\n",
       "      <th>project_is_approved</th>\n",
       "      <th>project_subject_categories</th>\n",
       "      <th>project_subject_subcategories</th>\n",
       "      <th>price</th>\n",
       "      <th>quantity</th>\n",
       "    </tr>\n",
       "  </thead>\n",
       "  <tbody>\n",
       "    <tr>\n",
       "      <th>0</th>\n",
       "      <td>0</td>\n",
       "      <td>0</td>\n",
       "      <td>in</td>\n",
       "      <td>mrs</td>\n",
       "      <td>grades_prek_2</td>\n",
       "      <td>0</td>\n",
       "      <td>0</td>\n",
       "      <td>literacy_language</td>\n",
       "      <td>esl_literacy</td>\n",
       "      <td>154.6</td>\n",
       "      <td>23</td>\n",
       "    </tr>\n",
       "    <tr>\n",
       "      <th>1</th>\n",
       "      <td>1</td>\n",
       "      <td>1</td>\n",
       "      <td>fl</td>\n",
       "      <td>mr</td>\n",
       "      <td>grades_6_8</td>\n",
       "      <td>7</td>\n",
       "      <td>1</td>\n",
       "      <td>history_civics_health_sports</td>\n",
       "      <td>civics_government_teamsports</td>\n",
       "      <td>299.0</td>\n",
       "      <td>1</td>\n",
       "    </tr>\n",
       "  </tbody>\n",
       "</table>\n",
       "</div>"
      ],
      "text/plain": [
       "   Unnamed: 0  Unnamed: 0.1 school_state teacher_prefix  \\\n",
       "0           0             0           in            mrs   \n",
       "1           1             1           fl             mr   \n",
       "\n",
       "  project_grade_category  teacher_number_of_previously_posted_projects  \\\n",
       "0          grades_prek_2                                             0   \n",
       "1             grades_6_8                                             7   \n",
       "\n",
       "   project_is_approved    project_subject_categories  \\\n",
       "0                    0             literacy_language   \n",
       "1                    1  history_civics_health_sports   \n",
       "\n",
       "  project_subject_subcategories  price  quantity  \n",
       "0                  esl_literacy  154.6        23  \n",
       "1  civics_government_teamsports  299.0         1  "
      ]
     },
     "execution_count": 15,
     "metadata": {},
     "output_type": "execute_result"
    }
   ],
   "source": [
    "csv  = pd.read_csv(r\"C:\\Users\\KIIT\\Desktop\\HighRadius Docs\\Grouby_Assignment_Data.csv\")\n",
    "data = pd.DataFrame(csv)\n",
    "data.head(2)"
   ]
  },
  {
   "cell_type": "code",
   "execution_count": 16,
   "metadata": {},
   "outputs": [],
   "source": [
    "data_mean = data.groupby(['school_state']).mean()\n",
    "# data_mean['price']"
   ]
  },
  {
   "cell_type": "code",
   "execution_count": 17,
   "metadata": {},
   "outputs": [
    {
     "data": {
      "text/plain": [
       "teacher_prefix\n",
       "dr             53\n",
       "mr         129516\n",
       "mrs        639471\n",
       "ms         441295\n",
       "teacher      7671\n",
       "Name: teacher_number_of_previously_posted_projects, dtype: int64"
      ]
     },
     "execution_count": 17,
     "metadata": {},
     "output_type": "execute_result"
    }
   ],
   "source": [
    "data_sum = data.groupby(['teacher_prefix']).sum()\n",
    "data_sum['teacher_number_of_previously_posted_projects']"
   ]
  },
  {
   "cell_type": "code",
   "execution_count": 18,
   "metadata": {},
   "outputs": [
    {
     "data": {
      "text/plain": [
       "teacher_prefix                                  teacher\n",
       "teacher_number_of_previously_posted_projects        451\n",
       "dtype: object"
      ]
     },
     "execution_count": 18,
     "metadata": {},
     "output_type": "execute_result"
    }
   ],
   "source": [
    "data_subset = pd.DataFrame()\n",
    "data_subset['teacher_prefix'] = data['teacher_prefix']\n",
    "data_subset['teacher_number_of_previously_posted_projects'] = data['teacher_number_of_previously_posted_projects']\n",
    "data_subset.max()"
   ]
  },
  {
   "cell_type": "code",
   "execution_count": 19,
   "metadata": {},
   "outputs": [
    {
     "data": {
      "text/plain": [
       "Index(['Unnamed: 0', 'Unnamed: 0.1', 'school_state', 'teacher_prefix',\n",
       "       'project_grade_category',\n",
       "       'teacher_number_of_previously_posted_projects', 'project_is_approved',\n",
       "       'project_subject_categories', 'project_subject_subcategories', 'price',\n",
       "       'quantity'],\n",
       "      dtype='object')"
      ]
     },
     "execution_count": 19,
     "metadata": {},
     "output_type": "execute_result"
    }
   ],
   "source": [
    "data.columns"
   ]
  },
  {
   "cell_type": "code",
   "execution_count": 20,
   "metadata": {},
   "outputs": [
    {
     "data": {
      "text/html": [
       "<div>\n",
       "<style scoped>\n",
       "    .dataframe tbody tr th:only-of-type {\n",
       "        vertical-align: middle;\n",
       "    }\n",
       "\n",
       "    .dataframe tbody tr th {\n",
       "        vertical-align: top;\n",
       "    }\n",
       "\n",
       "    .dataframe thead th {\n",
       "        text-align: right;\n",
       "    }\n",
       "</style>\n",
       "<table border=\"1\" class=\"dataframe\">\n",
       "  <thead>\n",
       "    <tr style=\"text-align: right;\">\n",
       "      <th></th>\n",
       "      <th>Unnamed: 0</th>\n",
       "      <th>Unnamed: 0.1</th>\n",
       "      <th>teacher_number_of_previously_posted_projects</th>\n",
       "      <th>project_is_approved</th>\n",
       "      <th>price</th>\n",
       "      <th>quantity</th>\n",
       "    </tr>\n",
       "    <tr>\n",
       "      <th>project_subject_categories</th>\n",
       "      <th></th>\n",
       "      <th></th>\n",
       "      <th></th>\n",
       "      <th></th>\n",
       "      <th></th>\n",
       "      <th></th>\n",
       "    </tr>\n",
       "  </thead>\n",
       "  <tbody>\n",
       "    <tr>\n",
       "      <th>appliedlearning</th>\n",
       "      <td>28051023</td>\n",
       "      <td>28056920</td>\n",
       "      <td>3373</td>\n",
       "      <td>384</td>\n",
       "      <td>158812.43</td>\n",
       "      <td>9725</td>\n",
       "    </tr>\n",
       "    <tr>\n",
       "      <th>appliedlearning_health_sports</th>\n",
       "      <td>2093290</td>\n",
       "      <td>2093729</td>\n",
       "      <td>414</td>\n",
       "      <td>34</td>\n",
       "      <td>15819.21</td>\n",
       "      <td>656</td>\n",
       "    </tr>\n",
       "    <tr>\n",
       "      <th>appliedlearning_history_civics</th>\n",
       "      <td>4065840</td>\n",
       "      <td>4066697</td>\n",
       "      <td>852</td>\n",
       "      <td>57</td>\n",
       "      <td>32722.72</td>\n",
       "      <td>1386</td>\n",
       "    </tr>\n",
       "    <tr>\n",
       "      <th>appliedlearning_literacy_language</th>\n",
       "      <td>12152040</td>\n",
       "      <td>12154581</td>\n",
       "      <td>2509</td>\n",
       "      <td>191</td>\n",
       "      <td>68696.15</td>\n",
       "      <td>4989</td>\n",
       "    </tr>\n",
       "    <tr>\n",
       "      <th>appliedlearning_math_science</th>\n",
       "      <td>9781110</td>\n",
       "      <td>9783157</td>\n",
       "      <td>1516</td>\n",
       "      <td>142</td>\n",
       "      <td>66554.18</td>\n",
       "      <td>2846</td>\n",
       "    </tr>\n",
       "  </tbody>\n",
       "</table>\n",
       "</div>"
      ],
      "text/plain": [
       "                                   Unnamed: 0  Unnamed: 0.1  \\\n",
       "project_subject_categories                                    \n",
       "appliedlearning                      28051023      28056920   \n",
       "appliedlearning_health_sports         2093290       2093729   \n",
       "appliedlearning_history_civics        4065840       4066697   \n",
       "appliedlearning_literacy_language    12152040      12154581   \n",
       "appliedlearning_math_science          9781110       9783157   \n",
       "\n",
       "                                   teacher_number_of_previously_posted_projects  \\\n",
       "project_subject_categories                                                        \n",
       "appliedlearning                                                            3373   \n",
       "appliedlearning_health_sports                                               414   \n",
       "appliedlearning_history_civics                                              852   \n",
       "appliedlearning_literacy_language                                          2509   \n",
       "appliedlearning_math_science                                               1516   \n",
       "\n",
       "                                   project_is_approved      price  quantity  \n",
       "project_subject_categories                                                   \n",
       "appliedlearning                                    384  158812.43      9725  \n",
       "appliedlearning_health_sports                       34   15819.21       656  \n",
       "appliedlearning_history_civics                      57   32722.72      1386  \n",
       "appliedlearning_literacy_language                  191   68696.15      4989  \n",
       "appliedlearning_math_science                       142   66554.18      2846  "
      ]
     },
     "execution_count": 20,
     "metadata": {},
     "output_type": "execute_result"
    }
   ],
   "source": [
    "data_project1 = data[data['project_grade_category'] == 'grades_9_12']\n",
    "data_project = data_project1.groupby(['project_subject_categories']).sum()\n",
    "data_project.head() # project_is_approved tells the number of projects approved for each subject category in grades_9_12"
   ]
  },
  {
   "cell_type": "code",
   "execution_count": 21,
   "metadata": {},
   "outputs": [
    {
     "data": {
      "text/plain": [
       "teacher_prefix\n",
       "dr         0.692308\n",
       "mr         0.841522\n",
       "mrs        0.855546\n",
       "ms         0.843519\n",
       "teacher    0.795339\n",
       "Name: project_is_approved, dtype: float64"
      ]
     },
     "execution_count": 21,
     "metadata": {},
     "output_type": "execute_result"
    }
   ],
   "source": [
    "data_prefix_avg = data.groupby(['teacher_prefix']).mean()\n",
    "data_prefix_avg['project_is_approved']"
   ]
  },
  {
   "cell_type": "code",
   "execution_count": 22,
   "metadata": {},
   "outputs": [
    {
     "data": {
      "text/html": [
       "<div>\n",
       "<style scoped>\n",
       "    .dataframe tbody tr th:only-of-type {\n",
       "        vertical-align: middle;\n",
       "    }\n",
       "\n",
       "    .dataframe tbody tr th {\n",
       "        vertical-align: top;\n",
       "    }\n",
       "\n",
       "    .dataframe thead th {\n",
       "        text-align: right;\n",
       "    }\n",
       "</style>\n",
       "<table border=\"1\" class=\"dataframe\">\n",
       "  <thead>\n",
       "    <tr style=\"text-align: right;\">\n",
       "      <th></th>\n",
       "      <th>State</th>\n",
       "      <th>class</th>\n",
       "    </tr>\n",
       "  </thead>\n",
       "  <tbody>\n",
       "    <tr>\n",
       "      <th>0</th>\n",
       "      <td>A</td>\n",
       "      <td>0</td>\n",
       "    </tr>\n",
       "    <tr>\n",
       "      <th>1</th>\n",
       "      <td>B</td>\n",
       "      <td>1</td>\n",
       "    </tr>\n",
       "    <tr>\n",
       "      <th>2</th>\n",
       "      <td>C</td>\n",
       "      <td>1</td>\n",
       "    </tr>\n",
       "    <tr>\n",
       "      <th>3</th>\n",
       "      <td>A</td>\n",
       "      <td>0</td>\n",
       "    </tr>\n",
       "    <tr>\n",
       "      <th>4</th>\n",
       "      <td>A</td>\n",
       "      <td>1</td>\n",
       "    </tr>\n",
       "  </tbody>\n",
       "</table>\n",
       "</div>"
      ],
      "text/plain": [
       "  State  class\n",
       "0     A      0\n",
       "1     B      1\n",
       "2     C      1\n",
       "3     A      0\n",
       "4     A      1"
      ]
     },
     "execution_count": 22,
     "metadata": {},
     "output_type": "execute_result"
    }
   ],
   "source": [
    "new_df = pd.DataFrame({'State': ['A', 'B', 'C', 'A', 'A', 'B', 'A', 'A', 'C', 'C'],\n",
    "'class': [0, 1, 1, 0, 1, 1, 0, 1,1, 0]})\n",
    "new_df.head()"
   ]
  },
  {
   "cell_type": "code",
   "execution_count": 23,
   "metadata": {},
   "outputs": [],
   "source": [
    "new_df_A = new_df[new_df['State'] == 'A']\n",
    "new_df_B = new_df[new_df['State'] == 'B']\n",
    "new_df_C = new_df[new_df['State'] == 'C']\n"
   ]
  },
  {
   "cell_type": "code",
   "execution_count": 24,
   "metadata": {},
   "outputs": [
    {
     "data": {
      "text/html": [
       "<div>\n",
       "<style scoped>\n",
       "    .dataframe tbody tr th:only-of-type {\n",
       "        vertical-align: middle;\n",
       "    }\n",
       "\n",
       "    .dataframe tbody tr th {\n",
       "        vertical-align: top;\n",
       "    }\n",
       "\n",
       "    .dataframe thead th {\n",
       "        text-align: right;\n",
       "    }\n",
       "</style>\n",
       "<table border=\"1\" class=\"dataframe\">\n",
       "  <thead>\n",
       "    <tr style=\"text-align: right;\">\n",
       "      <th></th>\n",
       "      <th>State</th>\n",
       "      <th>class=0</th>\n",
       "      <th>class=1</th>\n",
       "    </tr>\n",
       "  </thead>\n",
       "  <tbody>\n",
       "    <tr>\n",
       "      <th>0</th>\n",
       "      <td>A</td>\n",
       "      <td>3</td>\n",
       "      <td>2</td>\n",
       "    </tr>\n",
       "    <tr>\n",
       "      <th>1</th>\n",
       "      <td>B</td>\n",
       "      <td>0</td>\n",
       "      <td>2</td>\n",
       "    </tr>\n",
       "    <tr>\n",
       "      <th>2</th>\n",
       "      <td>C</td>\n",
       "      <td>1</td>\n",
       "      <td>2</td>\n",
       "    </tr>\n",
       "  </tbody>\n",
       "</table>\n",
       "</div>"
      ],
      "text/plain": [
       "  State  class=0  class=1\n",
       "0     A        3        2\n",
       "1     B        0        2\n",
       "2     C        1        2"
      ]
     },
     "execution_count": 24,
     "metadata": {},
     "output_type": "execute_result"
    }
   ],
   "source": [
    "state_list = list(new_df['State'].unique())\n",
    "\n",
    "new_df_try = pd.DataFrame()\n",
    "new_df_try['State'] = state_list\n",
    "\n",
    "dicA = dict(new_df_A['class'].value_counts())\n",
    "dicB = dict(new_df_B['class'].value_counts())\n",
    "dicC = dict(new_df_C['class'].value_counts())\n",
    "\n",
    "new_df_try['class=0'] = [dicA.get(0, 0), dicB.get(0, 0), dicC.get(0, 0)]\n",
    "new_df_try['class=1'] = [dicA.get(1, 0), dicB.get(1, 0), dicC.get(1, 0)]\n",
    "new_df_try"
   ]
  },
  {
   "cell_type": "code",
   "execution_count": 25,
   "metadata": {},
   "outputs": [
    {
     "data": {
      "text/html": [
       "<div>\n",
       "<style scoped>\n",
       "    .dataframe tbody tr th:only-of-type {\n",
       "        vertical-align: middle;\n",
       "    }\n",
       "\n",
       "    .dataframe tbody tr th {\n",
       "        vertical-align: top;\n",
       "    }\n",
       "\n",
       "    .dataframe thead th {\n",
       "        text-align: right;\n",
       "    }\n",
       "</style>\n",
       "<table border=\"1\" class=\"dataframe\">\n",
       "  <thead>\n",
       "    <tr style=\"text-align: right;\">\n",
       "      <th></th>\n",
       "      <th>State_0</th>\n",
       "      <th>State_1</th>\n",
       "    </tr>\n",
       "  </thead>\n",
       "  <tbody>\n",
       "    <tr>\n",
       "      <th>0</th>\n",
       "      <td>0.600000</td>\n",
       "      <td>0.400000</td>\n",
       "    </tr>\n",
       "    <tr>\n",
       "      <th>1</th>\n",
       "      <td>0.000000</td>\n",
       "      <td>1.000000</td>\n",
       "    </tr>\n",
       "    <tr>\n",
       "      <th>2</th>\n",
       "      <td>0.333333</td>\n",
       "      <td>0.666667</td>\n",
       "    </tr>\n",
       "    <tr>\n",
       "      <th>3</th>\n",
       "      <td>0.600000</td>\n",
       "      <td>0.400000</td>\n",
       "    </tr>\n",
       "    <tr>\n",
       "      <th>4</th>\n",
       "      <td>0.600000</td>\n",
       "      <td>0.400000</td>\n",
       "    </tr>\n",
       "    <tr>\n",
       "      <th>5</th>\n",
       "      <td>0.000000</td>\n",
       "      <td>1.000000</td>\n",
       "    </tr>\n",
       "    <tr>\n",
       "      <th>6</th>\n",
       "      <td>0.600000</td>\n",
       "      <td>0.400000</td>\n",
       "    </tr>\n",
       "    <tr>\n",
       "      <th>7</th>\n",
       "      <td>0.600000</td>\n",
       "      <td>0.400000</td>\n",
       "    </tr>\n",
       "    <tr>\n",
       "      <th>8</th>\n",
       "      <td>0.333333</td>\n",
       "      <td>0.666667</td>\n",
       "    </tr>\n",
       "    <tr>\n",
       "      <th>9</th>\n",
       "      <td>0.333333</td>\n",
       "      <td>0.666667</td>\n",
       "    </tr>\n",
       "  </tbody>\n",
       "</table>\n",
       "</div>"
      ],
      "text/plain": [
       "    State_0   State_1\n",
       "0  0.600000  0.400000\n",
       "1  0.000000  1.000000\n",
       "2  0.333333  0.666667\n",
       "3  0.600000  0.400000\n",
       "4  0.600000  0.400000\n",
       "5  0.000000  1.000000\n",
       "6  0.600000  0.400000\n",
       "7  0.600000  0.400000\n",
       "8  0.333333  0.666667\n",
       "9  0.333333  0.666667"
      ]
     },
     "execution_count": 25,
     "metadata": {},
     "output_type": "execute_result"
    }
   ],
   "source": [
    "new_df_final = pd.DataFrame()\n",
    "list_0 = []\n",
    "list_1 = []\n",
    "for i in list(new_df['State']):\n",
    "    # print(i)\n",
    "    if i == 'A':\n",
    "        list_0.append(3/5)\n",
    "        list_1.append(2/5)\n",
    "    elif i == 'B':\n",
    "        list_0.append(0/2)\n",
    "        list_1.append(2/2)\n",
    "    else:\n",
    "        list_0.append(1/3)\n",
    "        list_1.append(2/3)\n",
    "        \n",
    "new_df_final[\"State_0\"] = list_0\n",
    "new_df_final[\"State_1\"] = list_1\n",
    "new_df_final"
   ]
  },
  {
   "cell_type": "code",
   "execution_count": null,
   "metadata": {},
   "outputs": [],
   "source": []
  },
  {
   "cell_type": "code",
   "execution_count": null,
   "metadata": {},
   "outputs": [],
   "source": []
  }
 ],
 "metadata": {
  "kernelspec": {
   "display_name": "Python 3",
   "language": "python",
   "name": "python3"
  },
  "language_info": {
   "codemirror_mode": {
    "name": "ipython",
    "version": 3
   },
   "file_extension": ".py",
   "mimetype": "text/x-python",
   "name": "python",
   "nbconvert_exporter": "python",
   "pygments_lexer": "ipython3",
   "version": "3.7.6"
  }
 },
 "nbformat": 4,
 "nbformat_minor": 4
}
